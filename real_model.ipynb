{
 "cells": [
  {
   "cell_type": "code",
   "execution_count": 50,
   "metadata": {},
   "outputs": [],
   "source": [
    "import tensorflow as tf\n",
    "import pandas as pd\n",
    "from sklearn.impute import SimpleImputer\n",
    "from sklearn.compose import ColumnTransformer\n",
    "from sklearn.preprocessing import StandardScaler\n",
    "import json\n",
    "import numpy as np"
   ]
  },
  {
   "cell_type": "code",
   "execution_count": 51,
   "metadata": {},
   "outputs": [],
   "source": [
    "df =pd.read_csv(\"cervical-cancer_csv.csv\")\n"
   ]
  },
  {
   "cell_type": "code",
   "execution_count": 52,
   "metadata": {},
   "outputs": [],
   "source": [
    "df=df.dropna(subset=[\"Biopsy\"])\n"
   ]
  },
  {
   "cell_type": "code",
   "execution_count": 53,
   "metadata": {},
   "outputs": [],
   "source": [
    "X = df.drop('Biopsy', axis=1,inplace=False)\n",
    "y = df['Biopsy']\n"
   ]
  },
  {
   "cell_type": "code",
   "execution_count": 54,
   "metadata": {},
   "outputs": [],
   "source": [
    "numeric_cols = X.select_dtypes(include=['float64', 'int64']).columns\n",
    "categorical_cols = X.select_dtypes(include=['object', 'bool']).columns\n",
    "\n",
    "numeric_transformer = SimpleImputer(strategy='mean')\n",
    "categorical_transformer = SimpleImputer(strategy='most_frequent')\n",
    "\n",
    "# Create the ColumnTransformer\n",
    "preprocessor = ColumnTransformer(\n",
    "    transformers=[\n",
    "        ('num', numeric_transformer, numeric_cols),\n",
    "        ('cat', categorical_transformer, categorical_cols)\n",
    "    ])\n",
    "\n",
    "# Fit and transform the data\n",
    "df = pd.DataFrame(preprocessor.fit_transform(X), columns=X.columns)\n",
    "df=pd.concat([df, y.reset_index(drop=True)], axis=1)\n",
    "\n"
   ]
  },
  {
   "cell_type": "code",
   "execution_count": 55,
   "metadata": {},
   "outputs": [],
   "source": [
    "# Remove duplicate rows\n",
    "df = df.drop_duplicates()\n",
    "df.drop(['STDs: Time since first diagnosis', 'STDs: Time since last diagnosis'], axis=1, inplace=True)\n",
    "categorical_cols = df.select_dtypes(include=['object', 'bool']).columns"
   ]
  },
  {
   "cell_type": "code",
   "execution_count": 56,
   "metadata": {},
   "outputs": [
    {
     "name": "stdout",
     "output_type": "stream",
     "text": [
      "      Age  Number of sexual partners  First sexual intercourse  \\\n",
      "0    18.0                        4.0                 15.000000   \n",
      "1    15.0                        1.0                 14.000000   \n",
      "2    34.0                        1.0                 17.020531   \n",
      "3    52.0                        5.0                 16.000000   \n",
      "4    46.0                        3.0                 21.000000   \n",
      "..    ...                        ...                       ...   \n",
      "830  34.0                        3.0                 18.000000   \n",
      "831  32.0                        2.0                 19.000000   \n",
      "832  25.0                        2.0                 17.000000   \n",
      "833  33.0                        2.0                 24.000000   \n",
      "834  29.0                        2.0                 20.000000   \n",
      "\n",
      "     Num of pregnancies  Smokes  Smokes (years)  Smokes (packs/year)  \\\n",
      "0                   1.0     0.0             0.0                  0.0   \n",
      "1                   1.0     0.0             0.0                  0.0   \n",
      "2                   1.0     0.0             0.0                  0.0   \n",
      "3                   4.0     1.0            37.0                 37.0   \n",
      "4                   4.0     0.0             0.0                  0.0   \n",
      "..                  ...     ...             ...                  ...   \n",
      "830                 0.0     0.0             0.0                  0.0   \n",
      "831                 1.0     0.0             0.0                  0.0   \n",
      "832                 0.0     0.0             0.0                  0.0   \n",
      "833                 2.0     0.0             0.0                  0.0   \n",
      "834                 1.0     0.0             0.0                  0.0   \n",
      "\n",
      "     Hormonal Contraceptives  Hormonal Contraceptives (years)  IUD  ...  \\\n",
      "0                        0.0                             0.00  0.0  ...   \n",
      "1                        0.0                             0.00  0.0  ...   \n",
      "2                        0.0                             0.00  0.0  ...   \n",
      "3                        1.0                             3.00  0.0  ...   \n",
      "4                        1.0                            15.00  0.0  ...   \n",
      "..                       ...                              ...  ...  ...   \n",
      "830                      0.0                             0.00  0.0  ...   \n",
      "831                      1.0                             8.00  0.0  ...   \n",
      "832                      1.0                             0.08  0.0  ...   \n",
      "833                      1.0                             0.08  0.0  ...   \n",
      "834                      1.0                             0.50  0.0  ...   \n",
      "\n",
      "     STDs:HPV  STDs: Number of diagnosis  Dx:Cancer  Dx:CIN  Dx:HPV   Dx  \\\n",
      "0         0.0                        0.0        0.0     0.0     0.0  0.0   \n",
      "1         0.0                        0.0        0.0     0.0     0.0  0.0   \n",
      "2         0.0                        0.0        0.0     0.0     0.0  0.0   \n",
      "3         0.0                        0.0        1.0     0.0     1.0  0.0   \n",
      "4         0.0                        0.0        0.0     0.0     0.0  0.0   \n",
      "..        ...                        ...        ...     ...     ...  ...   \n",
      "830       0.0                        0.0        0.0     0.0     0.0  0.0   \n",
      "831       0.0                        0.0        0.0     0.0     0.0  0.0   \n",
      "832       0.0                        0.0        0.0     0.0     0.0  0.0   \n",
      "833       0.0                        0.0        0.0     0.0     0.0  0.0   \n",
      "834       0.0                        0.0        0.0     0.0     0.0  0.0   \n",
      "\n",
      "     Hinselmann  Schiller  Citology  Biopsy  \n",
      "0           0.0       0.0       0.0       0  \n",
      "1           0.0       0.0       0.0       0  \n",
      "2           0.0       0.0       0.0       0  \n",
      "3           0.0       0.0       0.0       0  \n",
      "4           0.0       0.0       0.0       0  \n",
      "..          ...       ...       ...     ...  \n",
      "830         0.0       0.0       0.0       0  \n",
      "831         0.0       0.0       0.0       0  \n",
      "832         0.0       0.0       1.0       0  \n",
      "833         0.0       0.0       0.0       0  \n",
      "834         0.0       0.0       0.0       0  \n",
      "\n",
      "[835 rows x 34 columns]\n"
     ]
    }
   ],
   "source": [
    "\n",
    "\n",
    "X = df.drop('Biopsy', axis=1)\n",
    "y = df['Biopsy']\n",
    "\n",
    "print(df)"
   ]
  },
  {
   "cell_type": "code",
   "execution_count": 57,
   "metadata": {},
   "outputs": [],
   "source": [
    "scaler = StandardScaler()\n",
    "X = df.drop('Biopsy', axis=1,inplace=False)\n",
    "y = df['Biopsy']\n",
    "X_normalized_df = pd.DataFrame(scaler.fit_transform(X), columns=X.columns)\n",
    "\n",
    "# Concatenate the normalized features with the target variable\n",
    "df = pd.concat([X_normalized_df, y.reset_index(drop=True)], axis=1)\n",
    "\n",
    "# Save the scaler parameters\n",
    "scaler_params = {\n",
    "    'mean': scaler.mean_.tolist(),\n",
    "    'scale': scaler.scale_.tolist()\n",
    "}\n",
    "X = df.drop('Biopsy', axis=1,inplace=False)\n",
    "y = df['Biopsy']"
   ]
  },
  {
   "cell_type": "markdown",
   "metadata": {},
   "source": [
    "Oversampling Techniques"
   ]
  },
  {
   "cell_type": "code",
   "execution_count": 58,
   "metadata": {},
   "outputs": [],
   "source": [
    "from imblearn.over_sampling import SMOTE\n",
    "from imblearn.under_sampling import RandomUnderSampler\n",
    "from imblearn.pipeline import Pipeline\n",
    "\n",
    "# Define the resampling technique\n",
    "smote = SMOTE(sampling_strategy='minority')\n",
    "under_sampler = RandomUnderSampler(sampling_strategy='majority')\n",
    "\n",
    "# Combine with pipeline\n",
    "pipeline = Pipeline(steps=[('o', smote), ('u', under_sampler)])\n",
    "X, y = pipeline.fit_resample(X, y)\n"
   ]
  },
  {
   "cell_type": "markdown",
   "metadata": {},
   "source": [
    "Cost-Sensitive Learning, Algorithm-level data balancing technique"
   ]
  },
  {
   "cell_type": "code",
   "execution_count": null,
   "metadata": {},
   "outputs": [],
   "source": [
    "# from sklearn.ensemble import RandomForestClassifier\n",
    "\n",
    "# # Define class weights\n",
    "# class_weights = {0: 1, 1: 10}  # Example weights\n",
    "\n",
    "# # Define and train the model\n",
    "# model = RandomForestClassifier(class_weight=class_weights)\n",
    "# model.fit(X_train, y_train)\n"
   ]
  },
  {
   "cell_type": "code",
   "execution_count": 59,
   "metadata": {},
   "outputs": [
    {
     "name": "stderr",
     "output_type": "stream",
     "text": [
      "c:\\Projects\\Python\\ML\\cervical\\venv\\lib\\site-packages\\keras\\src\\layers\\core\\dense.py:87: UserWarning: Do not pass an `input_shape`/`input_dim` argument to a layer. When using Sequential models, prefer using an `Input(shape)` object as the first layer in the model instead.\n",
      "  super().__init__(activity_regularizer=activity_regularizer, **kwargs)\n"
     ]
    }
   ],
   "source": [
    "model = tf.keras.Sequential([\n",
    "    tf.keras.layers.Dense(64, activation='relu', input_shape=(X.shape[1],)),\n",
    "    tf.keras.layers.Dense(32, activation='relu'),\n",
    "    tf.keras.layers.Dense(1, activation='sigmoid')\n",
    "])"
   ]
  },
  {
   "cell_type": "code",
   "execution_count": 60,
   "metadata": {},
   "outputs": [],
   "source": [
    "model.compile(optimizer='adam', loss='binary_crossentropy', metrics=['accuracy'])"
   ]
  },
  {
   "cell_type": "code",
   "execution_count": 61,
   "metadata": {},
   "outputs": [],
   "source": [
    "with open('real_model_scaler_params.json', 'w') as f:\n",
    "    json.dump(scaler_params, f)"
   ]
  },
  {
   "cell_type": "code",
   "execution_count": 62,
   "metadata": {},
   "outputs": [
    {
     "name": "stdout",
     "output_type": "stream",
     "text": [
      "Epoch 1/10\n",
      "\u001b[1m40/40\u001b[0m \u001b[32m━━━━━━━━━━━━━━━━━━━━\u001b[0m\u001b[37m\u001b[0m \u001b[1m4s\u001b[0m 7ms/step - accuracy: 0.7538 - loss: 0.5723 - val_accuracy: 0.9073 - val_loss: 0.3089\n",
      "Epoch 2/10\n",
      "\u001b[1m40/40\u001b[0m \u001b[32m━━━━━━━━━━━━━━━━━━━━\u001b[0m\u001b[37m\u001b[0m \u001b[1m0s\u001b[0m 3ms/step - accuracy: 0.9418 - loss: 0.2785 - val_accuracy: 0.9073 - val_loss: 0.2255\n",
      "Epoch 3/10\n",
      "\u001b[1m40/40\u001b[0m \u001b[32m━━━━━━━━━━━━━━━━━━━━\u001b[0m\u001b[37m\u001b[0m \u001b[1m0s\u001b[0m 3ms/step - accuracy: 0.9406 - loss: 0.1927 - val_accuracy: 0.9169 - val_loss: 0.1801\n",
      "Epoch 4/10\n",
      "\u001b[1m40/40\u001b[0m \u001b[32m━━━━━━━━━━━━━━━━━━━━\u001b[0m\u001b[37m\u001b[0m \u001b[1m0s\u001b[0m 3ms/step - accuracy: 0.9508 - loss: 0.1622 - val_accuracy: 0.9265 - val_loss: 0.1816\n",
      "Epoch 5/10\n",
      "\u001b[1m40/40\u001b[0m \u001b[32m━━━━━━━━━━━━━━━━━━━━\u001b[0m\u001b[37m\u001b[0m \u001b[1m0s\u001b[0m 2ms/step - accuracy: 0.9462 - loss: 0.1585 - val_accuracy: 0.9329 - val_loss: 0.1550\n",
      "Epoch 6/10\n",
      "\u001b[1m40/40\u001b[0m \u001b[32m━━━━━━━━━━━━━━━━━━━━\u001b[0m\u001b[37m\u001b[0m \u001b[1m0s\u001b[0m 3ms/step - accuracy: 0.9488 - loss: 0.1270 - val_accuracy: 0.9361 - val_loss: 0.1446\n",
      "Epoch 7/10\n",
      "\u001b[1m40/40\u001b[0m \u001b[32m━━━━━━━━━━━━━━━━━━━━\u001b[0m\u001b[37m\u001b[0m \u001b[1m0s\u001b[0m 2ms/step - accuracy: 0.9579 - loss: 0.1153 - val_accuracy: 0.9329 - val_loss: 0.1376\n",
      "Epoch 8/10\n",
      "\u001b[1m40/40\u001b[0m \u001b[32m━━━━━━━━━━━━━━━━━━━━\u001b[0m\u001b[37m\u001b[0m \u001b[1m0s\u001b[0m 3ms/step - accuracy: 0.9540 - loss: 0.1206 - val_accuracy: 0.9521 - val_loss: 0.1182\n",
      "Epoch 9/10\n",
      "\u001b[1m40/40\u001b[0m \u001b[32m━━━━━━━━━━━━━━━━━━━━\u001b[0m\u001b[37m\u001b[0m \u001b[1m0s\u001b[0m 3ms/step - accuracy: 0.9658 - loss: 0.1087 - val_accuracy: 0.9489 - val_loss: 0.1408\n",
      "Epoch 10/10\n",
      "\u001b[1m40/40\u001b[0m \u001b[32m━━━━━━━━━━━━━━━━━━━━\u001b[0m\u001b[37m\u001b[0m \u001b[1m0s\u001b[0m 3ms/step - accuracy: 0.9677 - loss: 0.1011 - val_accuracy: 0.9617 - val_loss: 0.1078\n"
     ]
    },
    {
     "data": {
      "text/plain": [
       "<keras.src.callbacks.history.History at 0x1b24be3e850>"
      ]
     },
     "execution_count": 62,
     "metadata": {},
     "output_type": "execute_result"
    }
   ],
   "source": [
    "model.fit(X, y, epochs=10, batch_size=32, validation_split=0.2)"
   ]
  },
  {
   "cell_type": "code",
   "execution_count": 63,
   "metadata": {},
   "outputs": [],
   "source": [
    "model.save('real_model_cervical_cancer_model_standardized.keras')"
   ]
  },
  {
   "cell_type": "code",
   "execution_count": 64,
   "metadata": {},
   "outputs": [
    {
     "name": "stdout",
     "output_type": "stream",
     "text": [
      "INFO:tensorflow:Assets written to: C:\\Users\\BoreTech\\AppData\\Local\\Temp\\tmpyqui7gdo\\assets\n"
     ]
    },
    {
     "name": "stderr",
     "output_type": "stream",
     "text": [
      "INFO:tensorflow:Assets written to: C:\\Users\\BoreTech\\AppData\\Local\\Temp\\tmpyqui7gdo\\assets\n"
     ]
    },
    {
     "name": "stdout",
     "output_type": "stream",
     "text": [
      "Saved artifact at 'C:\\Users\\BoreTech\\AppData\\Local\\Temp\\tmpyqui7gdo'. The following endpoints are available:\n",
      "\n",
      "* Endpoint 'serve'\n",
      "  args_0 (POSITIONAL_ONLY): TensorSpec(shape=(None, 33), dtype=tf.float32, name='input_layer_3')\n",
      "Output Type:\n",
      "  TensorSpec(shape=(None, 1), dtype=tf.float32, name=None)\n",
      "Captures:\n",
      "  1865137040368: TensorSpec(shape=(), dtype=tf.resource, name=None)\n",
      "  1865137038432: TensorSpec(shape=(), dtype=tf.resource, name=None)\n",
      "  1865096117936: TensorSpec(shape=(), dtype=tf.resource, name=None)\n",
      "  1865096117584: TensorSpec(shape=(), dtype=tf.resource, name=None)\n",
      "  1865138040672: TensorSpec(shape=(), dtype=tf.resource, name=None)\n",
      "  1865138038560: TensorSpec(shape=(), dtype=tf.resource, name=None)\n",
      "TensorFlow Lite Predictions: [[0.8412274]]\n",
      "Model Output:\n",
      "{'raw_input_data': {'age': [50], 'num_sexual_partners': [10], 'first_sexual_intercourse': [15], 'num_pregnancies': [4], 'smokes': [1], 'smokes_years': [20], 'smokes_packs_per_year': [10.5], 'hormonal_contraceptives': [1], 'hormonal_contraceptives_years': [15], 'iud': [1], 'iud_years': [10], 'stds': [1], 'stds_number': [5], 'stds_condylomatosis': [1], 'stds_cervical_condylomatosis': [1], 'stds_vaginal_condylomatosis': [1], 'stds_vulvo_perineal_condylomatosis': [1], 'stds_syphilis': [1], 'stds_pelvic_inflammatory_disease': [1], 'stds_genital_herpes': [1], 'stds_molluscum_contagiosum': [1], 'stds_aids': [1], 'stds_hiv': [1], 'stds_hepatitis_b': [1], 'stds_hpv': [1], 'stds_number_of_diagnosis': [5], 'dx_cancer': [1], 'dx_cin': [1], 'dx_hpv': [1], 'dx': [1], 'hinselmann': [1], 'schiller': [1], 'citology': [1]}, 'normalized_input_data': [{'age': 2.710109107259255, 'num_sexual_partners': 4.5130022159079495, 'first_sexual_intercourse': -0.7207243388648574, 'num_pregnancies': 1.2067351489428193, 'smokes': 2.402665769727598, 'smokes_years': 4.565697501239519, 'smokes_packs_per_year': 4.4849927088011965, 'hormonal_contraceptives': 0.7809057090974645, 'hormonal_contraceptives_years': 3.5766024318022285, 'iud': 2.9841800996314904, 'iud_years': 5.182916064818192, 'stds': 3.07141104891479, 'stds_number': 9.046724674174866, 'stds_condylomatosis': 4.223886635020406, 'stds_cervical_condylomatosis': 1.0, 'stds_vaginal_condylomatosis': 14.408814856823975, 'stds_vulvo_perineal_condylomatosis': 4.275809891633874, 'stds_syphilis': 6.727022704519451, 'stds_pelvic_inflammatory_disease': 28.87670247064632, 'stds_genital_herpes': 28.87670247064632, 'stds_molluscum_contagiosum': 28.876702470646325, 'stds_aids': 1.0, 'stds_hiv': 6.727022704519451, 'stds_hepatitis_b': 28.87670247064632, 'stds_hpv': 20.404998053864926, 'stds_number_of_diagnosis': 16.038400743006363, 'dx_cancer': 6.737127643802578, 'dx_cin': 9.580071908799942, 'dx_hpv': 6.737127643802578, 'dx': 5.8130600088650946, 'hinselmann': 4.780914437337574, 'schiller': 3.230844497091056, 'citology': 4.291690185831544}], 'predicted_probability': 0.8412274122238159, 'predicted_class': 1, 'confidence_interval': [0.45, 0.55], 'model_metrics': {'accuracy': 0.85, 'precision': 0.8, 'recall': 0.78, 'f1_score': 0.79}}\n"
     ]
    }
   ],
   "source": [
    "\n",
    "# Load the TensorFlow model\n",
    "model = tf.keras.models.load_model('real_model_cervical_cancer_model_standardized.keras')\n",
    "\n",
    "# Convert the model to TensorFlow Lite format\n",
    "converter = tf.lite.TFLiteConverter.from_keras_model(model)\n",
    "tflite_model = converter.convert()\n",
    "\n",
    "# Save the TensorFlow Lite model to a file\n",
    "with open('real_model_cervical_cancer_model_standardized.tflite', 'wb') as f:\n",
    "    f.write(tflite_model)\n",
    "\n",
    "# Load the TFLite model and allocate tensors\n",
    "interpreter = tf.lite.Interpreter(model_path='real_model_cervical_cancer_model_standardized.tflite')\n",
    "interpreter.allocate_tensors()\n",
    "\n",
    "# Get input and output tensors.\n",
    "input_details = interpreter.get_input_details()\n",
    "output_details = interpreter.get_output_details()\n",
    "\n",
    "# Test data\n",
    "test1_prob1= { \"age\": [50],\n",
    "  \"num_sexual_partners\": [10],\n",
    "  \"first_sexual_intercourse\": [15],\n",
    "  \"num_pregnancies\": [4],\n",
    "  \"smokes\": [1],\n",
    "  \"smokes_years\": [20],\n",
    "  \"smokes_packs_per_year\": [10.5],\n",
    "  \"hormonal_contraceptives\": [1],\n",
    "  \"hormonal_contraceptives_years\": [15],\n",
    "  \"iud\": [1],\n",
    "  \"iud_years\": [10],\n",
    "  \"stds\": [1],\n",
    "  \"stds_number\": [5],\n",
    "  \"stds_condylomatosis\": [1],\n",
    "  \"stds_cervical_condylomatosis\": [1],\n",
    "  \"stds_vaginal_condylomatosis\": [1],\n",
    "  \"stds_vulvo_perineal_condylomatosis\": [1],\n",
    "  \"stds_syphilis\": [1],\n",
    "  \"stds_pelvic_inflammatory_disease\": [1],\n",
    "  \"stds_genital_herpes\": [1],\n",
    "  \"stds_molluscum_contagiosum\": [1],\n",
    "  \"stds_aids\": [1],\n",
    "  \"stds_hiv\": [1],\n",
    "  \"stds_hepatitis_b\": [1],\n",
    "  \"stds_hpv\": [1],\n",
    "  \"stds_number_of_diagnosis\": [5],\n",
    "  \"dx_cancer\": [1],\n",
    "  \"dx_cin\": [1],\n",
    "  \"dx_hpv\": [1],\n",
    "  \"dx\": [1],\n",
    "  \"hinselmann\": [1],\n",
    "  \"schiller\": [1],\n",
    "  \"citology\": [1]\n",
    "}\n",
    "\n",
    "# Load scaler parameters\n",
    "with open('real_model_scaler_params.json', 'r') as f:\n",
    "    scaler_params = json.load(f)\n",
    "\n",
    "mean = np.array(scaler_params['mean'])\n",
    "scale = np.array(scaler_params['scale'])\n",
    "\n",
    "tester_prob1 = pd.DataFrame(test1_prob1)\n",
    "\n",
    "# Normalize input data\n",
    "tester_prob1_scaled = (tester_prob1 - mean) / scale\n",
    "input_data = tester_prob1_scaled.astype(np.float32).to_numpy()\n",
    "\n",
    "# Set the tensor to the input data\n",
    "interpreter.set_tensor(input_details[0]['index'], input_data)\n",
    "\n",
    "# Run inference\n",
    "interpreter.invoke()\n",
    "\n",
    "# Get the prediction result\n",
    "tflite_results = interpreter.get_tensor(output_details[0]['index'])\n",
    "\n",
    "# Print the TensorFlow Lite prediction\n",
    "print(f\"TensorFlow Lite Predictions: {tflite_results}\")\n",
    "\n",
    "predicted_probability = tflite_results[0][0]  # Assumes output shape is [1, 1]\n",
    "predicted_class = int(predicted_probability > 0.5)  # Binary classification threshold\n",
    "\n",
    "# For demonstration, using placeholder values for confidence interval and model metrics\n",
    "confidence_interval = [0.45, 0.55]  # Example placeholder values\n",
    "model_metrics = {\n",
    "    'accuracy': 0.85,\n",
    "    'precision': 0.80,\n",
    "    'recall': 0.78,\n",
    "    'f1_score': 0.79\n",
    "}\n",
    "\n",
    "# Output results\n",
    "results = {\n",
    "    'raw_input_data': test1_prob1,\n",
    "    'normalized_input_data': tester_prob1_scaled.to_dict(orient='records'),\n",
    "    'predicted_probability': float(predicted_probability),\n",
    "    'predicted_class': predicted_class,\n",
    "    'confidence_interval': confidence_interval,\n",
    "    'model_metrics': model_metrics\n",
    "}\n",
    "\n",
    "# Print the results\n",
    "print(\"Model Output:\")\n",
    "print(results)\n"
   ]
  }
 ],
 "metadata": {
  "kernelspec": {
   "display_name": "venv",
   "language": "python",
   "name": "python3"
  },
  "language_info": {
   "codemirror_mode": {
    "name": "ipython",
    "version": 3
   },
   "file_extension": ".py",
   "mimetype": "text/x-python",
   "name": "python",
   "nbconvert_exporter": "python",
   "pygments_lexer": "ipython3",
   "version": "3.9.5"
  }
 },
 "nbformat": 4,
 "nbformat_minor": 2
}

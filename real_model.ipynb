{
 "cells": [
  {
   "cell_type": "code",
   "execution_count": 29,
   "metadata": {},
   "outputs": [],
   "source": [
    "import tensorflow as tf\n",
    "import pandas as pd\n",
    "from sklearn.impute import SimpleImputer\n",
    "from sklearn.compose import ColumnTransformer\n",
    "from sklearn.preprocessing import StandardScaler\n",
    "import json\n",
    "import numpy as np\n",
    "from sklearn.metrics import accuracy_score, precision_score, recall_score, f1_score, roc_auc_score"
   ]
  },
  {
   "cell_type": "code",
   "execution_count": 30,
   "metadata": {},
   "outputs": [],
   "source": [
    "df =pd.read_csv(\"cervical-cancer_csv.csv\")\n"
   ]
  },
  {
   "cell_type": "code",
   "execution_count": 31,
   "metadata": {},
   "outputs": [],
   "source": [
    "df=df.dropna(subset=[\"Biopsy\"])\n"
   ]
  },
  {
   "cell_type": "code",
   "execution_count": 32,
   "metadata": {},
   "outputs": [],
   "source": [
    "X = df.drop('Biopsy', axis=1,inplace=False)\n",
    "y = df['Biopsy']\n"
   ]
  },
  {
   "cell_type": "code",
   "execution_count": 33,
   "metadata": {},
   "outputs": [],
   "source": [
    "numeric_cols = X.select_dtypes(include=['float64', 'int64']).columns\n",
    "categorical_cols = X.select_dtypes(include=['object', 'bool']).columns\n",
    "\n",
    "numeric_transformer = SimpleImputer(strategy='mean')\n",
    "categorical_transformer = SimpleImputer(strategy='most_frequent')\n",
    "\n",
    "# Create the ColumnTransformer\n",
    "preprocessor = ColumnTransformer(\n",
    "    transformers=[\n",
    "        ('num', numeric_transformer, numeric_cols),\n",
    "        ('cat', categorical_transformer, categorical_cols)\n",
    "    ])\n",
    "\n",
    "# Fit and transform the data\n",
    "df = pd.DataFrame(preprocessor.fit_transform(X), columns=X.columns)\n",
    "df=pd.concat([df, y.reset_index(drop=True)], axis=1)\n",
    "\n"
   ]
  },
  {
   "cell_type": "code",
   "execution_count": 34,
   "metadata": {},
   "outputs": [],
   "source": [
    "# Remove duplicate rows\n",
    "df = df.drop_duplicates()\n",
    "df.drop(['STDs: Time since first diagnosis', 'STDs: Time since last diagnosis'], axis=1, inplace=True)\n",
    "categorical_cols = df.select_dtypes(include=['object', 'bool']).columns"
   ]
  },
  {
   "cell_type": "code",
   "execution_count": 35,
   "metadata": {},
   "outputs": [],
   "source": [
    "\n",
    "\n",
    "X = df.drop('Biopsy', axis=1)\n",
    "y = df['Biopsy']\n",
    "\n"
   ]
  },
  {
   "cell_type": "code",
   "execution_count": 36,
   "metadata": {},
   "outputs": [],
   "source": [
    "scaler = StandardScaler()\n",
    "X = df.drop('Biopsy', axis=1,inplace=False)\n",
    "y = df['Biopsy']\n",
    "X_normalized_df = pd.DataFrame(scaler.fit_transform(X), columns=X.columns)\n",
    "\n",
    "# Concatenate the normalized features with the target variable\n",
    "df = pd.concat([X_normalized_df, y.reset_index(drop=True)], axis=1)\n",
    "\n",
    "# Save the scaler parameters\n",
    "scaler_params = {\n",
    "    'mean': scaler.mean_.tolist(),\n",
    "    'scale': scaler.scale_.tolist()\n",
    "}\n",
    "X = df.drop('Biopsy', axis=1,inplace=False)\n",
    "y = df['Biopsy']"
   ]
  },
  {
   "cell_type": "markdown",
   "metadata": {},
   "source": [
    "Oversampling Techniques"
   ]
  },
  {
   "cell_type": "code",
   "execution_count": 21,
   "metadata": {},
   "outputs": [],
   "source": [
    "from imblearn.over_sampling import SMOTE\n",
    "from imblearn.under_sampling import RandomUnderSampler\n",
    "from imblearn.pipeline import Pipeline\n",
    "\n",
    "# Define the resampling technique\n",
    "smote = SMOTE(sampling_strategy='minority')\n",
    "under_sampler = RandomUnderSampler(sampling_strategy='majority')\n",
    "\n",
    "# Combine with pipeline\n",
    "pipeline = Pipeline(steps=[('o', smote), ('u', under_sampler)])\n",
    "X, y = pipeline.fit_resample(X, y)\n"
   ]
  },
  {
   "cell_type": "markdown",
   "metadata": {},
   "source": [
    "Cost-Sensitive Learning, Algorithm-level data balancing technique"
   ]
  },
  {
   "cell_type": "code",
   "execution_count": null,
   "metadata": {},
   "outputs": [],
   "source": [
    "# from sklearn.ensemble import RandomForestClassifier\n",
    "\n",
    "# # Define class weights\n",
    "# class_weights = {0: 1, 1: 10}  # Example weights\n",
    "\n",
    "# # Define and train the model\n",
    "# model = RandomForestClassifier(class_weight=class_weights)\n",
    "# model.fit(X_train, y_train)\n"
   ]
  },
  {
   "cell_type": "code",
   "execution_count": 37,
   "metadata": {},
   "outputs": [
    {
     "name": "stderr",
     "output_type": "stream",
     "text": [
      "d:\\Projects\\Python\\ML\\cervical\\venv\\lib\\site-packages\\keras\\src\\layers\\core\\dense.py:87: UserWarning: Do not pass an `input_shape`/`input_dim` argument to a layer. When using Sequential models, prefer using an `Input(shape)` object as the first layer in the model instead.\n",
      "  super().__init__(activity_regularizer=activity_regularizer, **kwargs)\n"
     ]
    }
   ],
   "source": [
    "model = tf.keras.Sequential([\n",
    "    tf.keras.layers.Dense(64, activation='relu', input_shape=(X.shape[1],)),\n",
    "    tf.keras.layers.Dense(32, activation='relu'),\n",
    "    tf.keras.layers.Dense(1, activation='sigmoid')\n",
    "])"
   ]
  },
  {
   "cell_type": "code",
   "execution_count": 38,
   "metadata": {},
   "outputs": [],
   "source": [
    "model.compile(optimizer='adam', loss='binary_crossentropy', metrics=['accuracy'])"
   ]
  },
  {
   "cell_type": "code",
   "execution_count": 39,
   "metadata": {},
   "outputs": [],
   "source": [
    "with open('real_model_scaler_params.json', 'w') as f:\n",
    "    json.dump(scaler_params, f)"
   ]
  },
  {
   "cell_type": "code",
   "execution_count": 40,
   "metadata": {},
   "outputs": [
    {
     "name": "stdout",
     "output_type": "stream",
     "text": [
      "Epoch 1/10\n",
      "\u001b[1m21/21\u001b[0m \u001b[32m━━━━━━━━━━━━━━━━━━━━\u001b[0m\u001b[37m\u001b[0m \u001b[1m3s\u001b[0m 22ms/step - accuracy: 0.9055 - loss: 0.5666 - val_accuracy: 0.9521 - val_loss: 0.3737\n",
      "Epoch 2/10\n",
      "\u001b[1m21/21\u001b[0m \u001b[32m━━━━━━━━━━━━━━━━━━━━\u001b[0m\u001b[37m\u001b[0m \u001b[1m0s\u001b[0m 6ms/step - accuracy: 0.9363 - loss: 0.3375 - val_accuracy: 0.9581 - val_loss: 0.2267\n",
      "Epoch 3/10\n",
      "\u001b[1m21/21\u001b[0m \u001b[32m━━━━━━━━━━━━━━━━━━━━\u001b[0m\u001b[37m\u001b[0m \u001b[1m0s\u001b[0m 7ms/step - accuracy: 0.9404 - loss: 0.2012 - val_accuracy: 0.9401 - val_loss: 0.1680\n",
      "Epoch 4/10\n",
      "\u001b[1m21/21\u001b[0m \u001b[32m━━━━━━━━━━━━━━━━━━━━\u001b[0m\u001b[37m\u001b[0m \u001b[1m0s\u001b[0m 7ms/step - accuracy: 0.9666 - loss: 0.1272 - val_accuracy: 0.9521 - val_loss: 0.1493\n",
      "Epoch 5/10\n",
      "\u001b[1m21/21\u001b[0m \u001b[32m━━━━━━━━━━━━━━━━━━━━\u001b[0m\u001b[37m\u001b[0m \u001b[1m0s\u001b[0m 7ms/step - accuracy: 0.9549 - loss: 0.1338 - val_accuracy: 0.9521 - val_loss: 0.1429\n",
      "Epoch 6/10\n",
      "\u001b[1m21/21\u001b[0m \u001b[32m━━━━━━━━━━━━━━━━━━━━\u001b[0m\u001b[37m\u001b[0m \u001b[1m0s\u001b[0m 6ms/step - accuracy: 0.9568 - loss: 0.0949 - val_accuracy: 0.9401 - val_loss: 0.1388\n",
      "Epoch 7/10\n",
      "\u001b[1m21/21\u001b[0m \u001b[32m━━━━━━━━━━━━━━━━━━━━\u001b[0m\u001b[37m\u001b[0m \u001b[1m0s\u001b[0m 6ms/step - accuracy: 0.9701 - loss: 0.0882 - val_accuracy: 0.9461 - val_loss: 0.1340\n",
      "Epoch 8/10\n",
      "\u001b[1m21/21\u001b[0m \u001b[32m━━━━━━━━━━━━━━━━━━━━\u001b[0m\u001b[37m\u001b[0m \u001b[1m0s\u001b[0m 6ms/step - accuracy: 0.9730 - loss: 0.0717 - val_accuracy: 0.9461 - val_loss: 0.1328\n",
      "Epoch 9/10\n",
      "\u001b[1m21/21\u001b[0m \u001b[32m━━━━━━━━━━━━━━━━━━━━\u001b[0m\u001b[37m\u001b[0m \u001b[1m0s\u001b[0m 7ms/step - accuracy: 0.9668 - loss: 0.0785 - val_accuracy: 0.9461 - val_loss: 0.1341\n",
      "Epoch 10/10\n",
      "\u001b[1m21/21\u001b[0m \u001b[32m━━━━━━━━━━━━━━━━━━━━\u001b[0m\u001b[37m\u001b[0m \u001b[1m0s\u001b[0m 6ms/step - accuracy: 0.9766 - loss: 0.0652 - val_accuracy: 0.9461 - val_loss: 0.1351\n"
     ]
    },
    {
     "data": {
      "text/plain": [
       "<keras.src.callbacks.history.History at 0x27640501fa0>"
      ]
     },
     "execution_count": 40,
     "metadata": {},
     "output_type": "execute_result"
    }
   ],
   "source": [
    "model.fit(X, y, epochs=10, batch_size=32, validation_split=0.2)"
   ]
  },
  {
   "cell_type": "code",
   "execution_count": 41,
   "metadata": {},
   "outputs": [
    {
     "name": "stdout",
     "output_type": "stream",
     "text": [
      "\u001b[1m27/27\u001b[0m \u001b[32m━━━━━━━━━━━━━━━━━━━━\u001b[0m\u001b[37m\u001b[0m \u001b[1m0s\u001b[0m 5ms/step\n",
      "report \n",
      "               precision    recall  f1-score   support\n",
      "\n",
      "           0       0.98      0.98      0.98       781\n",
      "           1       0.74      0.72      0.73        54\n",
      "\n",
      "    accuracy                           0.97       835\n",
      "   macro avg       0.86      0.85      0.86       835\n",
      "weighted avg       0.96      0.97      0.97       835\n",
      "\n"
     ]
    }
   ],
   "source": [
    "from sklearn.metrics import confusion_matrix,classification_report\n",
    "y_preds=model.predict(X)\n",
    "y_preds=np.round(y_preds)\n",
    "print(\"report \\n\",classification_report(y,y_preds))"
   ]
  },
  {
   "cell_type": "code",
   "execution_count": 27,
   "metadata": {},
   "outputs": [],
   "source": [
    "model.save('real_model_cervical_cancer_model_standardized.keras')"
   ]
  },
  {
   "cell_type": "code",
   "execution_count": 42,
   "metadata": {},
   "outputs": [
    {
     "name": "stdout",
     "output_type": "stream",
     "text": [
      "INFO:tensorflow:Assets written to: C:\\Users\\BoraTech\\AppData\\Local\\Temp\\tmpuk3gg2sd\\assets\n"
     ]
    },
    {
     "name": "stderr",
     "output_type": "stream",
     "text": [
      "INFO:tensorflow:Assets written to: C:\\Users\\BoraTech\\AppData\\Local\\Temp\\tmpuk3gg2sd\\assets\n"
     ]
    },
    {
     "name": "stdout",
     "output_type": "stream",
     "text": [
      "Saved artifact at 'C:\\Users\\BoraTech\\AppData\\Local\\Temp\\tmpuk3gg2sd'. The following endpoints are available:\n",
      "\n",
      "* Endpoint 'serve'\n",
      "  args_0 (POSITIONAL_ONLY): TensorSpec(shape=(None, 33), dtype=tf.float32, name='input_layer_1')\n",
      "Output Type:\n",
      "  TensorSpec(shape=(None, 1), dtype=tf.float32, name=None)\n",
      "Captures:\n",
      "  2706876255744: TensorSpec(shape=(), dtype=tf.resource, name=None)\n",
      "  2706925139744: TensorSpec(shape=(), dtype=tf.resource, name=None)\n",
      "  2706882825552: TensorSpec(shape=(), dtype=tf.resource, name=None)\n",
      "  2706953243104: TensorSpec(shape=(), dtype=tf.resource, name=None)\n",
      "  2706970655728: TensorSpec(shape=(), dtype=tf.resource, name=None)\n",
      "  2706953993200: TensorSpec(shape=(), dtype=tf.resource, name=None)\n",
      "TensorFlow Lite Predictions: [[0.99999917]]\n",
      "Model Output:\n",
      "{'raw_input_data': {'age': [50], 'num_sexual_partners': [10], 'first_sexual_intercourse': [15], 'num_pregnancies': [4], 'smokes': [1], 'smokes_years': [20], 'smokes_packs_per_year': [10.5], 'hormonal_contraceptives': [1], 'hormonal_contraceptives_years': [15], 'iud': [1], 'iud_years': [10], 'stds': [1], 'stds_number': [5], 'stds_condylomatosis': [1], 'stds_cervical_condylomatosis': [1], 'stds_vaginal_condylomatosis': [1], 'stds_vulvo_perineal_condylomatosis': [1], 'stds_syphilis': [1], 'stds_pelvic_inflammatory_disease': [1], 'stds_genital_herpes': [1], 'stds_molluscum_contagiosum': [1], 'stds_aids': [1], 'stds_hiv': [1], 'stds_hepatitis_b': [1], 'stds_hpv': [1], 'stds_number_of_diagnosis': [5], 'dx_cancer': [1], 'dx_cin': [1], 'dx_hpv': [1], 'dx': [1], 'hinselmann': [1], 'schiller': [1], 'citology': [1]}, 'normalized_input_data': [{'age': 2.710109107259255, 'num_sexual_partners': 4.5130022159079495, 'first_sexual_intercourse': -0.7207243388648574, 'num_pregnancies': 1.2067351489428193, 'smokes': 2.402665769727598, 'smokes_years': 4.565697501239519, 'smokes_packs_per_year': 4.4849927088011965, 'hormonal_contraceptives': 0.7809057090974645, 'hormonal_contraceptives_years': 3.5766024318022285, 'iud': 2.9841800996314904, 'iud_years': 5.182916064818192, 'stds': 3.07141104891479, 'stds_number': 9.046724674174866, 'stds_condylomatosis': 4.223886635020406, 'stds_cervical_condylomatosis': 1.0, 'stds_vaginal_condylomatosis': 14.408814856823975, 'stds_vulvo_perineal_condylomatosis': 4.275809891633874, 'stds_syphilis': 6.727022704519451, 'stds_pelvic_inflammatory_disease': 28.87670247064632, 'stds_genital_herpes': 28.87670247064632, 'stds_molluscum_contagiosum': 28.876702470646325, 'stds_aids': 1.0, 'stds_hiv': 6.727022704519451, 'stds_hepatitis_b': 28.87670247064632, 'stds_hpv': 20.404998053864926, 'stds_number_of_diagnosis': 16.038400743006363, 'dx_cancer': 6.737127643802578, 'dx_cin': 9.580071908799942, 'dx_hpv': 6.737127643802578, 'dx': 5.8130600088650946, 'hinselmann': 4.780914437337574, 'schiller': 3.230844497091056, 'citology': 4.291690185831544}], 'predicted_probability': 0.9999991655349731, 'predicted_class': 1, 'confidence_interval': [0.45, 0.55], 'model_metrics': {'accuracy': 0.85, 'precision': 0.8, 'recall': 0.78, 'f1_score': 0.79}}\n"
     ]
    }
   ],
   "source": [
    "\n",
    "# Load the TensorFlow model\n",
    "model = tf.keras.models.load_model('real_model_cervical_cancer_model_standardized.keras')\n",
    "\n",
    "# Convert the model to TensorFlow Lite format\n",
    "converter = tf.lite.TFLiteConverter.from_keras_model(model)\n",
    "tflite_model = converter.convert()\n",
    "\n",
    "# Save the TensorFlow Lite model to a file\n",
    "with open('real_model_cervical_cancer_model_standardized.tflite', 'wb') as f:\n",
    "    f.write(tflite_model)\n",
    "\n",
    "# Load the TFLite model and allocate tensors\n",
    "interpreter = tf.lite.Interpreter(model_path='real_model_cervical_cancer_model_standardized.tflite')\n",
    "interpreter.allocate_tensors()\n",
    "\n",
    "# Get input and output tensors.\n",
    "input_details = interpreter.get_input_details()\n",
    "output_details = interpreter.get_output_details()\n",
    "\n",
    "# Test data\n",
    "test1_prob1= { \"age\": [50],\n",
    "  \"num_sexual_partners\": [10],\n",
    "  \"first_sexual_intercourse\": [15],\n",
    "  \"num_pregnancies\": [4],\n",
    "  \"smokes\": [1],\n",
    "  \"smokes_years\": [20],\n",
    "  \"smokes_packs_per_year\": [10.5],\n",
    "  \"hormonal_contraceptives\": [1],\n",
    "  \"hormonal_contraceptives_years\": [15],\n",
    "  \"iud\": [1],\n",
    "  \"iud_years\": [10],\n",
    "  \"stds\": [1],\n",
    "  \"stds_number\": [5],\n",
    "  \"stds_condylomatosis\": [1],\n",
    "  \"stds_cervical_condylomatosis\": [1],\n",
    "  \"stds_vaginal_condylomatosis\": [1],\n",
    "  \"stds_vulvo_perineal_condylomatosis\": [1],\n",
    "  \"stds_syphilis\": [1],\n",
    "  \"stds_pelvic_inflammatory_disease\": [1],\n",
    "  \"stds_genital_herpes\": [1],\n",
    "  \"stds_molluscum_contagiosum\": [1],\n",
    "  \"stds_aids\": [1],\n",
    "  \"stds_hiv\": [1],\n",
    "  \"stds_hepatitis_b\": [1],\n",
    "  \"stds_hpv\": [1],\n",
    "  \"stds_number_of_diagnosis\": [5],\n",
    "  \"dx_cancer\": [1],\n",
    "  \"dx_cin\": [1],\n",
    "  \"dx_hpv\": [1],\n",
    "  \"dx\": [1],\n",
    "  \"hinselmann\": [1],\n",
    "  \"schiller\": [1],\n",
    "  \"citology\": [1]\n",
    "}\n",
    "\n",
    "# Load scaler parameters\n",
    "with open('real_model_scaler_params.json', 'r') as f:\n",
    "    scaler_params = json.load(f)\n",
    "\n",
    "mean = np.array(scaler_params['mean'])\n",
    "scale = np.array(scaler_params['scale'])\n",
    "\n",
    "tester_prob1 = pd.DataFrame(test1_prob1)\n",
    "\n",
    "# Normalize input data\n",
    "tester_prob1_scaled = (tester_prob1 - mean) / scale\n",
    "input_data = tester_prob1_scaled.astype(np.float32).to_numpy()\n",
    "\n",
    "# Set the tensor to the input data\n",
    "interpreter.set_tensor(input_details[0]['index'], input_data)\n",
    "\n",
    "# Run inference\n",
    "interpreter.invoke()\n",
    "\n",
    "# Get the prediction result\n",
    "tflite_results = interpreter.get_tensor(output_details[0]['index'])\n",
    "\n",
    "# Print the TensorFlow Lite prediction\n",
    "print(f\"TensorFlow Lite Predictions: {tflite_results}\")\n",
    "\n",
    "predicted_probability = tflite_results[0][0]  # Assumes output shape is [1, 1]\n",
    "predicted_class = int(predicted_probability > 0.5)  # Binary classification threshold\n",
    "\n",
    "# For demonstration, using placeholder values for confidence interval and model metrics\n",
    "confidence_interval = [0.45, 0.55]  # Example placeholder values\n",
    "model_metrics = {\n",
    "    'accuracy': 0.85,\n",
    "    'precision': 0.80,\n",
    "    'recall': 0.78,\n",
    "    'f1_score': 0.79\n",
    "}\n",
    "\n",
    "# Output results\n",
    "results = {\n",
    "    'raw_input_data': test1_prob1,\n",
    "    'normalized_input_data': tester_prob1_scaled.to_dict(orient='records'),\n",
    "    'predicted_probability': float(predicted_probability),\n",
    "    'predicted_class': predicted_class,\n",
    "    'confidence_interval': confidence_interval,\n",
    "    'model_metrics': model_metrics\n",
    "}\n",
    "\n",
    "# Print the results\n",
    "print(\"Model Output:\")\n",
    "print(results)\n"
   ]
  },
  {
   "cell_type": "markdown",
   "metadata": {},
   "source": [
    "metrics\n"
   ]
  }
 ],
 "metadata": {
  "kernelspec": {
   "display_name": "venv",
   "language": "python",
   "name": "python3"
  },
  "language_info": {
   "codemirror_mode": {
    "name": "ipython",
    "version": 3
   },
   "file_extension": ".py",
   "mimetype": "text/x-python",
   "name": "python",
   "nbconvert_exporter": "python",
   "pygments_lexer": "ipython3",
   "version": "3.9.5"
  }
 },
 "nbformat": 4,
 "nbformat_minor": 2
}

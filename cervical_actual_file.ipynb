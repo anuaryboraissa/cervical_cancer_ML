{
 "cells": [
  {
   "cell_type": "code",
   "execution_count": 1,
   "metadata": {},
   "outputs": [],
   "source": [
    "\n",
    "import pandas as pd\n",
    "from sklearn.impute import SimpleImputer\n",
    "from sklearn.compose import ColumnTransformer\n",
    "from sklearn.preprocessing import MinMaxScaler\n",
    "from sklearn.model_selection import train_test_split\n",
    "from sklearn.ensemble import GradientBoostingClassifier\n",
    "from sklearn.metrics import accuracy_score, precision_score, recall_score, f1_score, roc_auc_score"
   ]
  },
  {
   "cell_type": "code",
   "execution_count": 2,
   "metadata": {},
   "outputs": [],
   "source": [
    "df =pd.read_csv(\"cervical-cancer_csv.csv\")"
   ]
  },
  {
   "cell_type": "code",
   "execution_count": 3,
   "metadata": {},
   "outputs": [],
   "source": [
    "df=df.dropna(subset=[\"Biopsy\"])"
   ]
  },
  {
   "cell_type": "code",
   "execution_count": 4,
   "metadata": {},
   "outputs": [],
   "source": [
    "X = df.drop('Biopsy', axis=1,inplace=False)\n",
    "y = df['Biopsy']\n"
   ]
  },
  {
   "cell_type": "code",
   "execution_count": 5,
   "metadata": {},
   "outputs": [],
   "source": [
    "numeric_cols = X.select_dtypes(include=['float64', 'int64']).columns\n",
    "categorical_cols = X.select_dtypes(include=['object', 'bool']).columns\n",
    "\n",
    "numeric_transformer = SimpleImputer(strategy='mean')\n",
    "categorical_transformer = SimpleImputer(strategy='most_frequent')\n",
    "\n",
    "# Create the ColumnTransformer\n",
    "preprocessor = ColumnTransformer(\n",
    "    transformers=[\n",
    "        ('num', numeric_transformer, numeric_cols),\n",
    "        ('cat', categorical_transformer, categorical_cols)\n",
    "    ])\n",
    "\n",
    "# Fit and transform the data\n",
    "df = pd.DataFrame(preprocessor.fit_transform(X), columns=X.columns)\n",
    "df=pd.concat([df, y.reset_index(drop=True)], axis=1)\n",
    "\n"
   ]
  },
  {
   "cell_type": "code",
   "execution_count": 6,
   "metadata": {},
   "outputs": [],
   "source": [
    "# Remove duplicate rows\n",
    "df = df.drop_duplicates()\n",
    "df.drop(['STDs: Time since first diagnosis', 'STDs: Time since last diagnosis'], axis=1, inplace=True)\n",
    "categorical_cols = df.select_dtypes(include=['object', 'bool']).columns"
   ]
  },
  {
   "cell_type": "code",
   "execution_count": 74,
   "metadata": {},
   "outputs": [],
   "source": [
    "scaler = MinMaxScaler()\n",
    "# df = scaler.fit_transform(X)\n",
    "X = df.drop('Biopsy', axis=1,inplace=False)\n",
    "y = df['Biopsy']\n",
    "X_normalized_df = pd.DataFrame(scaler.fit_transform(X), columns=X.columns)\n",
    "\n",
    "# Concatenate the normalized features with the target variable\n",
    "df = pd.concat([X_normalized_df, y.reset_index(drop=True)], axis=1)\n"
   ]
  },
  {
   "cell_type": "code",
   "execution_count": 7,
   "metadata": {},
   "outputs": [],
   "source": [
    "from sklearn.model_selection import train_test_split\n",
    "\n",
    "X = df.drop('Biopsy', axis=1)\n",
    "y = df['Biopsy']\n",
    "X_train, X_test, y_train, y_test = train_test_split(X, y, test_size=0.2, random_state=42)"
   ]
  },
  {
   "cell_type": "code",
   "execution_count": 15,
   "metadata": {},
   "outputs": [
    {
     "name": "stdout",
     "output_type": "stream",
     "text": [
      "Age                                   float64\n",
      "Number of sexual partners             float64\n",
      "First sexual intercourse              float64\n",
      "Num of pregnancies                    float64\n",
      "Smokes                                float64\n",
      "Smokes (years)                        float64\n",
      "Smokes (packs/year)                   float64\n",
      "Hormonal Contraceptives               float64\n",
      "Hormonal Contraceptives (years)       float64\n",
      "IUD                                   float64\n",
      "IUD (years)                           float64\n",
      "STDs                                  float64\n",
      "STDs (number)                         float64\n",
      "STDs:condylomatosis                   float64\n",
      "STDs:cervical condylomatosis          float64\n",
      "STDs:vaginal condylomatosis           float64\n",
      "STDs:vulvo-perineal condylomatosis    float64\n",
      "STDs:syphilis                         float64\n",
      "STDs:pelvic inflammatory disease      float64\n",
      "STDs:genital herpes                   float64\n",
      "STDs:molluscum contagiosum            float64\n",
      "STDs:AIDS                             float64\n",
      "STDs:HIV                              float64\n",
      "STDs:Hepatitis B                      float64\n",
      "STDs:HPV                              float64\n",
      "STDs: Number of diagnosis             float64\n",
      "Dx:Cancer                             float64\n",
      "Dx:CIN                                float64\n",
      "Dx:HPV                                float64\n",
      "Dx                                    float64\n",
      "Hinselmann                            float64\n",
      "Schiller                              float64\n",
      "Citology                              float64\n",
      "Biopsy                                  int64\n",
      "dtype: object\n"
     ]
    }
   ],
   "source": [
    "print(df.dtypes)\n",
    "# print(df.shape)\n",
    "model_gbc = GradientBoostingClassifier()\n",
    "model_gbc.fit(X_train, y_train)\n",
    "\n",
    "# Predictions\n",
    "y_pred_gbc = model_gbc.predict(X_test)\n",
    "\n",
    "# Evaluation Metrics\n",
    "accuracy_gbc = accuracy_score(y_test, y_pred_gbc)\n",
    "precision_gbc = precision_score(y_test, y_pred_gbc)\n",
    "recall_gbc = recall_score(y_test, y_pred_gbc)\n",
    "f1_gbc = f1_score(y_test, y_pred_gbc)\n",
    "roc_auc_gbc = roc_auc_score(y_test, model_gbc.predict_proba(X_test)[:, 1])\n",
    "\n",
    "# Print Metrics\n",
    "# print(\"Gradient Boosting Classifier Metrics:\")\n",
    "# print(f\"Accuracy: {accuracy_gbc:.2f}\")\n",
    "# print(f\"Precision: {precision_gbc:.2f}\")\n",
    "# print(f\"Recall: {recall_gbc:.2f}\")\n",
    "# print(f\"F1 Score: {f1_gbc:.2f}\")\n",
    "# print(f\"ROC-AUC Score: {roc_auc_gbc:.2f}\")"
   ]
  }
 ],
 "metadata": {
  "kernelspec": {
   "display_name": "venv",
   "language": "python",
   "name": "python3"
  },
  "language_info": {
   "codemirror_mode": {
    "name": "ipython",
    "version": 3
   },
   "file_extension": ".py",
   "mimetype": "text/x-python",
   "name": "python",
   "nbconvert_exporter": "python",
   "pygments_lexer": "ipython3",
   "version": "3.9.5"
  }
 },
 "nbformat": 4,
 "nbformat_minor": 2
}

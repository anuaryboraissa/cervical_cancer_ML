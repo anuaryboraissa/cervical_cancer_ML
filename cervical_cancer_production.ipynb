{
 "cells": [
  {
   "cell_type": "code",
   "execution_count": 1,
   "metadata": {},
   "outputs": [],
   "source": [
    "import pandas as pd\n",
    "from sklearn.impute import SimpleImputer\n",
    "from sklearn.compose import ColumnTransformer\n",
    "from sklearn.preprocessing import MinMaxScaler\n",
    "from sklearn.model_selection import train_test_split\n",
    "from sklearn.ensemble import GradientBoostingClassifier\n",
    "from sklearn.metrics import accuracy_score, precision_score, recall_score, f1_score, roc_auc_score"
   ]
  },
  {
   "cell_type": "code",
   "execution_count": 2,
   "metadata": {},
   "outputs": [],
   "source": [
    "df =pd.read_csv(\"cervical-cancer_csv.csv\")"
   ]
  },
  {
   "cell_type": "code",
   "execution_count": 3,
   "metadata": {},
   "outputs": [],
   "source": [
    "df=df.dropna(subset=[\"Biopsy\"])"
   ]
  },
  {
   "cell_type": "code",
   "execution_count": 4,
   "metadata": {},
   "outputs": [],
   "source": [
    "X = df.drop('Biopsy', axis=1,inplace=False)\n",
    "y = df['Biopsy']\n"
   ]
  },
  {
   "cell_type": "code",
   "execution_count": 5,
   "metadata": {},
   "outputs": [],
   "source": [
    "numeric_cols = X.select_dtypes(include=['float64', 'int64']).columns\n",
    "categorical_cols = X.select_dtypes(include=['object', 'bool']).columns\n",
    "\n",
    "numeric_transformer = SimpleImputer(strategy='mean')\n",
    "categorical_transformer = SimpleImputer(strategy='most_frequent')\n",
    "\n",
    "# Create the ColumnTransformer\n",
    "preprocessor = ColumnTransformer(\n",
    "    transformers=[\n",
    "        ('num', numeric_transformer, numeric_cols),\n",
    "        ('cat', categorical_transformer, categorical_cols)\n",
    "    ])\n",
    "\n",
    "# Fit and transform the data\n",
    "df = pd.DataFrame(preprocessor.fit_transform(X), columns=X.columns)\n",
    "df=pd.concat([df, y.reset_index(drop=True)], axis=1)\n",
    "\n"
   ]
  },
  {
   "cell_type": "code",
   "execution_count": 6,
   "metadata": {},
   "outputs": [],
   "source": [
    "# Remove duplicate rows\n",
    "df = df.drop_duplicates()\n",
    "df.drop(['STDs: Time since first diagnosis', 'STDs: Time since last diagnosis'], axis=1, inplace=True)\n",
    "categorical_cols = df.select_dtypes(include=['object', 'bool']).columns"
   ]
  },
  {
   "cell_type": "code",
   "execution_count": 8,
   "metadata": {},
   "outputs": [
    {
     "name": "stdout",
     "output_type": "stream",
     "text": [
      "Missing entries: Age                                   0\n",
      "Number of sexual partners             0\n",
      "First sexual intercourse              0\n",
      "Num of pregnancies                    0\n",
      "Smokes                                0\n",
      "Smokes (years)                        0\n",
      "Smokes (packs/year)                   0\n",
      "Hormonal Contraceptives               0\n",
      "Hormonal Contraceptives (years)       0\n",
      "IUD                                   0\n",
      "IUD (years)                           0\n",
      "STDs                                  0\n",
      "STDs (number)                         0\n",
      "STDs:condylomatosis                   0\n",
      "STDs:cervical condylomatosis          0\n",
      "STDs:vaginal condylomatosis           0\n",
      "STDs:vulvo-perineal condylomatosis    0\n",
      "STDs:syphilis                         0\n",
      "STDs:pelvic inflammatory disease      0\n",
      "STDs:genital herpes                   0\n",
      "STDs:molluscum contagiosum            0\n",
      "STDs:AIDS                             0\n",
      "STDs:HIV                              0\n",
      "STDs:Hepatitis B                      0\n",
      "STDs:HPV                              0\n",
      "STDs: Number of diagnosis             0\n",
      "Dx:Cancer                             0\n",
      "Dx:CIN                                0\n",
      "Dx:HPV                                0\n",
      "Dx                                    0\n",
      "Hinselmann                            0\n",
      "Schiller                              0\n",
      "Citology                              0\n",
      "Biopsy                                0\n",
      "dtype: int64\n"
     ]
    }
   ],
   "source": [
    "scaler = MinMaxScaler()\n",
    "# df = scaler.fit_transform(X)\n",
    "X = df.drop('Biopsy', axis=1,inplace=False)\n",
    "y = df['Biopsy']\n",
    "X_normalized_df = pd.DataFrame(scaler.fit_transform(X), columns=X.columns)\n",
    "\n",
    "# Concatenate the normalized features with the target variable\n",
    "df = pd.concat([X_normalized_df, y.reset_index(drop=True)], axis=1)\n",
    "X = df.drop('Biopsy', axis=1)\n",
    "y = df['Biopsy']       \n",
    "missing_values=df.isnull().sum()\n",
    "print(f\"Missing entries: {missing_values}\")"
   ]
  },
  {
   "cell_type": "code",
   "execution_count": 9,
   "metadata": {},
   "outputs": [
    {
     "name": "stdout",
     "output_type": "stream",
     "text": [
      "Gradient Boosting Classifier Metrics:\n",
      "Accuracy: 1.00\n",
      "Precision: 0.96\n",
      "Recall: 0.96\n",
      "F1 Score: 0.96\n",
      "ROC-AUC Score: 1.00\n"
     ]
    }
   ],
   "source": [
    "model_gbc = GradientBoostingClassifier()\n",
    "model_gbc.fit(X, y)\n",
    "\n",
    "# Predictions\n",
    "y_pred_gbc = model_gbc.predict(X)\n",
    "\n",
    "# Evaluation Metrics\n",
    "accuracy_gbc = accuracy_score(y, y_pred_gbc)\n",
    "precision_gbc = precision_score(y, y_pred_gbc)\n",
    "recall_gbc = recall_score(y, y_pred_gbc)\n",
    "f1_gbc = f1_score(y, y_pred_gbc)\n",
    "roc_auc_gbc = roc_auc_score(y, model_gbc.predict_proba(X)[:, 1])\n",
    "\n",
    "# Print Metrics\n",
    "print(\"Gradient Boosting Classifier Metrics:\")\n",
    "print(f\"Accuracy: {accuracy_gbc:.2f}\")\n",
    "print(f\"Precision: {precision_gbc:.2f}\")\n",
    "print(f\"Recall: {recall_gbc:.2f}\")\n",
    "print(f\"F1 Score: {f1_gbc:.2f}\")\n",
    "print(f\"ROC-AUC Score: {roc_auc_gbc:.2f}\")"
   ]
  }
 ],
 "metadata": {
  "kernelspec": {
   "display_name": "venv",
   "language": "python",
   "name": "python3"
  },
  "language_info": {
   "codemirror_mode": {
    "name": "ipython",
    "version": 3
   },
   "file_extension": ".py",
   "mimetype": "text/x-python",
   "name": "python",
   "nbconvert_exporter": "python",
   "pygments_lexer": "ipython3",
   "version": "3.9.5"
  }
 },
 "nbformat": 4,
 "nbformat_minor": 2
}

{
 "cells": [
  {
   "cell_type": "code",
   "execution_count": 150,
   "metadata": {},
   "outputs": [],
   "source": [
    "import tensorflow as tf\n",
    "import pandas as pd\n",
    "from sklearn.impute import SimpleImputer\n",
    "from sklearn.compose import ColumnTransformer\n",
    "from sklearn.preprocessing import MinMaxScaler\n",
    "from sklearn.preprocessing import StandardScaler\n",
    "from sklearn.ensemble import GradientBoostingClassifier\n",
    "from sklearn.metrics import accuracy_score, precision_score, recall_score, f1_score, roc_auc_score"
   ]
  },
  {
   "cell_type": "code",
   "execution_count": 151,
   "metadata": {},
   "outputs": [],
   "source": [
    "df =pd.read_csv(\"cervical-cancer_csv.csv\")"
   ]
  },
  {
   "cell_type": "code",
   "execution_count": 152,
   "metadata": {},
   "outputs": [],
   "source": [
    "df=df.dropna(subset=[\"Biopsy\"])"
   ]
  },
  {
   "cell_type": "code",
   "execution_count": 153,
   "metadata": {},
   "outputs": [],
   "source": [
    "X = df.drop('Biopsy', axis=1,inplace=False)\n",
    "y = df['Biopsy']\n"
   ]
  },
  {
   "cell_type": "code",
   "execution_count": 154,
   "metadata": {},
   "outputs": [],
   "source": [
    "numeric_cols = X.select_dtypes(include=['float64', 'int64']).columns\n",
    "categorical_cols = X.select_dtypes(include=['object', 'bool']).columns\n",
    "\n",
    "numeric_transformer = SimpleImputer(strategy='mean')\n",
    "categorical_transformer = SimpleImputer(strategy='most_frequent')\n",
    "\n",
    "# Create the ColumnTransformer\n",
    "preprocessor = ColumnTransformer(\n",
    "    transformers=[\n",
    "        ('num', numeric_transformer, numeric_cols),\n",
    "        ('cat', categorical_transformer, categorical_cols)\n",
    "    ])\n",
    "\n",
    "# Fit and transform the data\n",
    "df = pd.DataFrame(preprocessor.fit_transform(X), columns=X.columns)\n",
    "df=pd.concat([df, y.reset_index(drop=True)], axis=1)\n",
    "\n"
   ]
  },
  {
   "cell_type": "code",
   "execution_count": 147,
   "metadata": {},
   "outputs": [],
   "source": [
    "scaler = StandardScaler()\n",
    "# df = scaler.fit_transform(X)\n",
    "X = df.drop('Biopsy', axis=1,inplace=False)\n",
    "y = df['Biopsy']\n",
    "X_normalized_df = pd.DataFrame(scaler.fit_transform(X), columns=X.columns)\n",
    "\n",
    "# Concatenate the normalized features with the target variable\n",
    "df = pd.concat([X_normalized_df, y.reset_index(drop=True)], axis=1)"
   ]
  },
  {
   "cell_type": "code",
   "execution_count": 155,
   "metadata": {},
   "outputs": [],
   "source": [
    "# Remove duplicate rows\n",
    "df = df.drop_duplicates()\n",
    "df.drop(['STDs: Time since first diagnosis', 'STDs: Time since last diagnosis'], axis=1, inplace=True)\n",
    "categorical_cols = df.select_dtypes(include=['object', 'bool']).columns"
   ]
  },
  {
   "cell_type": "code",
   "execution_count": 156,
   "metadata": {},
   "outputs": [
    {
     "name": "stdout",
     "output_type": "stream",
     "text": [
      "      Age  Number of sexual partners  First sexual intercourse  \\\n",
      "0    18.0                        4.0                 15.000000   \n",
      "1    15.0                        1.0                 14.000000   \n",
      "2    34.0                        1.0                 17.020531   \n",
      "3    52.0                        5.0                 16.000000   \n",
      "4    46.0                        3.0                 21.000000   \n",
      "..    ...                        ...                       ...   \n",
      "830  34.0                        3.0                 18.000000   \n",
      "831  32.0                        2.0                 19.000000   \n",
      "832  25.0                        2.0                 17.000000   \n",
      "833  33.0                        2.0                 24.000000   \n",
      "834  29.0                        2.0                 20.000000   \n",
      "\n",
      "     Num of pregnancies  Smokes  Smokes (years)  Smokes (packs/year)  \\\n",
      "0                   1.0     0.0             0.0                  0.0   \n",
      "1                   1.0     0.0             0.0                  0.0   \n",
      "2                   1.0     0.0             0.0                  0.0   \n",
      "3                   4.0     1.0            37.0                 37.0   \n",
      "4                   4.0     0.0             0.0                  0.0   \n",
      "..                  ...     ...             ...                  ...   \n",
      "830                 0.0     0.0             0.0                  0.0   \n",
      "831                 1.0     0.0             0.0                  0.0   \n",
      "832                 0.0     0.0             0.0                  0.0   \n",
      "833                 2.0     0.0             0.0                  0.0   \n",
      "834                 1.0     0.0             0.0                  0.0   \n",
      "\n",
      "     Hormonal Contraceptives  Hormonal Contraceptives (years)  IUD  ...  \\\n",
      "0                        0.0                             0.00  0.0  ...   \n",
      "1                        0.0                             0.00  0.0  ...   \n",
      "2                        0.0                             0.00  0.0  ...   \n",
      "3                        1.0                             3.00  0.0  ...   \n",
      "4                        1.0                            15.00  0.0  ...   \n",
      "..                       ...                              ...  ...  ...   \n",
      "830                      0.0                             0.00  0.0  ...   \n",
      "831                      1.0                             8.00  0.0  ...   \n",
      "832                      1.0                             0.08  0.0  ...   \n",
      "833                      1.0                             0.08  0.0  ...   \n",
      "834                      1.0                             0.50  0.0  ...   \n",
      "\n",
      "     STDs:HPV  STDs: Number of diagnosis  Dx:Cancer  Dx:CIN  Dx:HPV   Dx  \\\n",
      "0         0.0                        0.0        0.0     0.0     0.0  0.0   \n",
      "1         0.0                        0.0        0.0     0.0     0.0  0.0   \n",
      "2         0.0                        0.0        0.0     0.0     0.0  0.0   \n",
      "3         0.0                        0.0        1.0     0.0     1.0  0.0   \n",
      "4         0.0                        0.0        0.0     0.0     0.0  0.0   \n",
      "..        ...                        ...        ...     ...     ...  ...   \n",
      "830       0.0                        0.0        0.0     0.0     0.0  0.0   \n",
      "831       0.0                        0.0        0.0     0.0     0.0  0.0   \n",
      "832       0.0                        0.0        0.0     0.0     0.0  0.0   \n",
      "833       0.0                        0.0        0.0     0.0     0.0  0.0   \n",
      "834       0.0                        0.0        0.0     0.0     0.0  0.0   \n",
      "\n",
      "     Hinselmann  Schiller  Citology  Biopsy  \n",
      "0           0.0       0.0       0.0       0  \n",
      "1           0.0       0.0       0.0       0  \n",
      "2           0.0       0.0       0.0       0  \n",
      "3           0.0       0.0       0.0       0  \n",
      "4           0.0       0.0       0.0       0  \n",
      "..          ...       ...       ...     ...  \n",
      "830         0.0       0.0       0.0       0  \n",
      "831         0.0       0.0       0.0       0  \n",
      "832         0.0       0.0       1.0       0  \n",
      "833         0.0       0.0       0.0       0  \n",
      "834         0.0       0.0       0.0       0  \n",
      "\n",
      "[835 rows x 34 columns]\n"
     ]
    }
   ],
   "source": [
    "\n",
    "\n",
    "X = df.drop('Biopsy', axis=1)\n",
    "y = df['Biopsy']\n",
    "\n",
    "print(df)"
   ]
  },
  {
   "cell_type": "code",
   "execution_count": 157,
   "metadata": {},
   "outputs": [],
   "source": [
    "scaler = StandardScaler()\n",
    "X = df.drop('Biopsy', axis=1,inplace=False)\n",
    "y = df['Biopsy']\n",
    "X_normalized_df = pd.DataFrame(scaler.fit_transform(X), columns=X.columns)\n",
    "\n",
    "# Concatenate the normalized features with the target variable\n",
    "df = pd.concat([X_normalized_df, y.reset_index(drop=True)], axis=1)\n",
    "\n",
    "# Save the scaler parameters\n",
    "scaler_params = {\n",
    "    'mean': scaler.mean_.tolist(),\n",
    "    'scale': scaler.scale_.tolist()\n",
    "}\n",
    "X = df.drop('Biopsy', axis=1,inplace=False)\n",
    "y = df['Biopsy']"
   ]
  },
  {
   "cell_type": "code",
   "execution_count": 158,
   "metadata": {},
   "outputs": [
    {
     "name": "stderr",
     "output_type": "stream",
     "text": [
      "c:\\Projects\\Python\\ML\\cervical\\venv\\lib\\site-packages\\keras\\src\\layers\\core\\dense.py:87: UserWarning: Do not pass an `input_shape`/`input_dim` argument to a layer. When using Sequential models, prefer using an `Input(shape)` object as the first layer in the model instead.\n",
      "  super().__init__(activity_regularizer=activity_regularizer, **kwargs)\n"
     ]
    }
   ],
   "source": [
    "model = tf.keras.Sequential([\n",
    "    tf.keras.layers.Dense(64, activation='relu', input_shape=(X.shape[1],)),\n",
    "    tf.keras.layers.Dense(32, activation='relu'),\n",
    "    tf.keras.layers.Dense(1, activation='sigmoid')\n",
    "])"
   ]
  },
  {
   "cell_type": "code",
   "execution_count": 159,
   "metadata": {},
   "outputs": [],
   "source": [
    "model.compile(optimizer='adam', loss='binary_crossentropy', metrics=['accuracy'])"
   ]
  },
  {
   "cell_type": "code",
   "execution_count": 160,
   "metadata": {},
   "outputs": [],
   "source": [
    "import json\n",
    "with open('scaler_params.json', 'w') as f:\n",
    "    json.dump(scaler_params, f)"
   ]
  },
  {
   "cell_type": "code",
   "execution_count": 161,
   "metadata": {},
   "outputs": [
    {
     "name": "stdout",
     "output_type": "stream",
     "text": [
      "Epoch 1/10\n",
      "\u001b[1m21/21\u001b[0m \u001b[32m━━━━━━━━━━━━━━━━━━━━\u001b[0m\u001b[37m\u001b[0m \u001b[1m1s\u001b[0m 11ms/step - accuracy: 0.5745 - loss: 0.6640 - val_accuracy: 0.9461 - val_loss: 0.3789\n",
      "Epoch 2/10\n",
      "\u001b[1m21/21\u001b[0m \u001b[32m━━━━━━━━━━━━━━━━━━━━\u001b[0m\u001b[37m\u001b[0m \u001b[1m0s\u001b[0m 3ms/step - accuracy: 0.9398 - loss: 0.3557 - val_accuracy: 0.9581 - val_loss: 0.2097\n",
      "Epoch 3/10\n",
      "\u001b[1m21/21\u001b[0m \u001b[32m━━━━━━━━━━━━━━━━━━━━\u001b[0m\u001b[37m\u001b[0m \u001b[1m0s\u001b[0m 3ms/step - accuracy: 0.9397 - loss: 0.2333 - val_accuracy: 0.9581 - val_loss: 0.1384\n",
      "Epoch 4/10\n",
      "\u001b[1m21/21\u001b[0m \u001b[32m━━━━━━━━━━━━━━━━━━━━\u001b[0m\u001b[37m\u001b[0m \u001b[1m0s\u001b[0m 3ms/step - accuracy: 0.9570 - loss: 0.1535 - val_accuracy: 0.9581 - val_loss: 0.1163\n",
      "Epoch 5/10\n",
      "\u001b[1m21/21\u001b[0m \u001b[32m━━━━━━━━━━━━━━━━━━━━\u001b[0m\u001b[37m\u001b[0m \u001b[1m0s\u001b[0m 3ms/step - accuracy: 0.9574 - loss: 0.1134 - val_accuracy: 0.9701 - val_loss: 0.1101\n",
      "Epoch 6/10\n",
      "\u001b[1m21/21\u001b[0m \u001b[32m━━━━━━━━━━━━━━━━━━━━\u001b[0m\u001b[37m\u001b[0m \u001b[1m0s\u001b[0m 3ms/step - accuracy: 0.9523 - loss: 0.1177 - val_accuracy: 0.9581 - val_loss: 0.1095\n",
      "Epoch 7/10\n",
      "\u001b[1m21/21\u001b[0m \u001b[32m━━━━━━━━━━━━━━━━━━━━\u001b[0m\u001b[37m\u001b[0m \u001b[1m0s\u001b[0m 3ms/step - accuracy: 0.9636 - loss: 0.0836 - val_accuracy: 0.9581 - val_loss: 0.1083\n",
      "Epoch 8/10\n",
      "\u001b[1m21/21\u001b[0m \u001b[32m━━━━━━━━━━━━━━━━━━━━\u001b[0m\u001b[37m\u001b[0m \u001b[1m0s\u001b[0m 3ms/step - accuracy: 0.9700 - loss: 0.0731 - val_accuracy: 0.9701 - val_loss: 0.1050\n",
      "Epoch 9/10\n",
      "\u001b[1m21/21\u001b[0m \u001b[32m━━━━━━━━━━━━━━━━━━━━\u001b[0m\u001b[37m\u001b[0m \u001b[1m0s\u001b[0m 3ms/step - accuracy: 0.9736 - loss: 0.0673 - val_accuracy: 0.9581 - val_loss: 0.1100\n",
      "Epoch 10/10\n",
      "\u001b[1m21/21\u001b[0m \u001b[32m━━━━━━━━━━━━━━━━━━━━\u001b[0m\u001b[37m\u001b[0m \u001b[1m0s\u001b[0m 4ms/step - accuracy: 0.9651 - loss: 0.0748 - val_accuracy: 0.9760 - val_loss: 0.1064\n"
     ]
    },
    {
     "data": {
      "text/plain": [
       "<keras.src.callbacks.history.History at 0x1ab18f74ac0>"
      ]
     },
     "execution_count": 161,
     "metadata": {},
     "output_type": "execute_result"
    }
   ],
   "source": [
    "model.fit(X, y, epochs=10, batch_size=32, validation_split=0.2)"
   ]
  },
  {
   "cell_type": "code",
   "execution_count": 162,
   "metadata": {},
   "outputs": [
    {
     "name": "stdout",
     "output_type": "stream",
     "text": [
      "\u001b[1m1/1\u001b[0m \u001b[32m━━━━━━━━━━━━━━━━━━━━\u001b[0m\u001b[37m\u001b[0m \u001b[1m0s\u001b[0m 71ms/step\n",
      "Predictions: [[0.17817138]], prob [[0]], \n"
     ]
    }
   ],
   "source": [
    "import numpy as np\n",
    "\n",
    "test1_prob1= { \"age\": [50],\n",
    "  \"num_sexual_partners\": [10],\n",
    "  \"first_sexual_intercourse\": [15],\n",
    "  \"num_pregnancies\": [4],\n",
    "  \"smokes\": [1],\n",
    "  \"smokes_years\": [20],\n",
    "  \"smokes_packs_per_year\": [10.5],\n",
    "  \"hormonal_contraceptives\": [1],\n",
    "  \"hormonal_contraceptives_years\": [15],\n",
    "  \"iud\": [1],\n",
    "  \"iud_years\": [10],\n",
    "  \"stds\": [1],\n",
    "  \"stds_number\": [5],\n",
    "  \"stds_condylomatosis\": [1],\n",
    "  \"stds_cervical_condylomatosis\": [1],\n",
    "  \"stds_vaginal_condylomatosis\": [1],\n",
    "  \"stds_vulvo_perineal_condylomatosis\": [1],\n",
    "  \"stds_syphilis\": [1],\n",
    "  \"stds_pelvic_inflammatory_disease\": [1],\n",
    "  \"stds_genital_herpes\": [1],\n",
    "  \"stds_molluscum_contagiosum\": [1],\n",
    "  \"stds_aids\": [1],\n",
    "  \"stds_hiv\": [1],\n",
    "  \"stds_hepatitis_b\": [1],\n",
    "  \"stds_hpv\": [1],\n",
    "  \"stds_number_of_diagnosis\": [5],\n",
    "  \"dx_cancer\": [1],\n",
    "  \"dx_cin\": [1],\n",
    "  \"dx_hpv\": [1],\n",
    "  \"dx\": [1],\n",
    "  \"hinselmann\": [1],\n",
    "  \"schiller\": [1],\n",
    "  \"citology\": [1]\n",
    "}\n",
    "scaler=StandardScaler()\n",
    "tester_prob1 = pd.DataFrame(test1_prob1)\n",
    "X_normalized_df = pd.DataFrame(scaler.fit_transform(tester_prob1), columns=tester_prob1.columns)\n",
    "\n",
    "y_pred_proba = model.predict(X_normalized_df)  # Probabilities for ROC-AUC\n",
    "y_pred = (y_pred_proba > 0.5).astype(int)\n",
    "\n",
    "print(f\"Predictions: {y_pred_proba}, prob {y_pred}, \")"
   ]
  },
  {
   "cell_type": "code",
   "execution_count": 163,
   "metadata": {},
   "outputs": [
    {
     "name": "stdout",
     "output_type": "stream",
     "text": [
      "\u001b[1m1/1\u001b[0m \u001b[32m━━━━━━━━━━━━━━━━━━━━\u001b[0m\u001b[37m\u001b[0m \u001b[1m0s\u001b[0m 32ms/step\n",
      "Predictions: [[0.17817138]], prob [[0]], \n"
     ]
    }
   ],
   "source": [
    "test1_prob0= {\n",
    "  \"age\": [25],\n",
    "  \"num_sexual_partners\": [1],\n",
    "  \"first_sexual_intercourse\": [20],\n",
    "  \"num_pregnancies\": 1,\n",
    "  \"smokes\": [0],\n",
    "  \"smokes_years\": [0],\n",
    "  \"smokes_packs_per_year\":[ 0.0],\n",
    "  \"hormonal_contraceptives\": [0],\n",
    "  \"hormonal_contraceptives_years\": [0],\n",
    "  \"iud\": [0],\n",
    "  \"iud_years\": [0],\n",
    "  \"stds\": [0],\n",
    "  \"stds_number\": [0],\n",
    "  \"stds_condylomatosis\": [0],\n",
    "  \"stds_cervical_condylomatosis\": [0],\n",
    "  \"stds_vaginal_condylomatosis\": [0],\n",
    "  \"stds_vulvo_perineal_condylomatosis\": [0],\n",
    "  \"stds_syphilis\": [0],\n",
    "  \"stds_pelvic_inflammatory_disease\": [0],\n",
    "  \"stds_genital_herpes\": [0],\n",
    "  \"stds_molluscum_contagiosum\": [0],\n",
    "  \"stds_aids\": [0],\n",
    "  \"stds_hiv\": [0],\n",
    "  \"stds_hepatitis_b\": [0],\n",
    "  \"stds_hpv\": [0],\n",
    "  \"stds_number_of_diagnosis\": [0],\n",
    "  \"dx_cancer\": [0],\n",
    "  \"dx_cin\": [0],\n",
    "  \"dx_hpv\": [0],\n",
    "  \"dx\": [0],\n",
    "  \"hinselmann\": [0],\n",
    "  \"schiller\": [0],\n",
    "  \"citology\": [0]\n",
    "}\n",
    "\n",
    "\n",
    "# scaler=StandardScaler()\n",
    "tester_prob0 = pd.DataFrame(test1_prob0)\n",
    "X_normalized_df_0 = pd.DataFrame(scaler.fit_transform(tester_prob0), columns=tester_prob0.columns)\n",
    "\n",
    "y_pred_proba = model.predict(X_normalized_df_0)  # Probabilities for ROC-AUC\n",
    "y_pred = (y_pred_proba > 0.5).astype(int)\n",
    "\n",
    "print(f\"Predictions: {y_pred_proba}, prob {y_pred}, \")"
   ]
  },
  {
   "cell_type": "code",
   "execution_count": 164,
   "metadata": {},
   "outputs": [
    {
     "name": "stderr",
     "output_type": "stream",
     "text": [
      "WARNING:absl:You are saving your model as an HDF5 file via `model.save()` or `keras.saving.save_model(model)`. This file format is considered legacy. We recommend using instead the native Keras format, e.g. `model.save('my_model.keras')` or `keras.saving.save_model(model, 'my_model.keras')`. \n"
     ]
    },
    {
     "name": "stdout",
     "output_type": "stream",
     "text": [
      "INFO:tensorflow:Assets written to: C:\\Users\\BoreTech\\AppData\\Local\\Temp\\tmpdr_f4wi_\\assets\n"
     ]
    },
    {
     "name": "stderr",
     "output_type": "stream",
     "text": [
      "INFO:tensorflow:Assets written to: C:\\Users\\BoreTech\\AppData\\Local\\Temp\\tmpdr_f4wi_\\assets\n"
     ]
    },
    {
     "name": "stdout",
     "output_type": "stream",
     "text": [
      "Saved artifact at 'C:\\Users\\BoreTech\\AppData\\Local\\Temp\\tmpdr_f4wi_'. The following endpoints are available:\n",
      "\n",
      "* Endpoint 'serve'\n",
      "  args_0 (POSITIONAL_ONLY): TensorSpec(shape=(None, 33), dtype=tf.float32, name='keras_tensor_86')\n",
      "Output Type:\n",
      "  TensorSpec(shape=(None, 1), dtype=tf.float32, name=None)\n",
      "Captures:\n",
      "  1834370378208: TensorSpec(shape=(), dtype=tf.resource, name=None)\n",
      "  1834352867984: TensorSpec(shape=(), dtype=tf.resource, name=None)\n",
      "  1834353194256: TensorSpec(shape=(), dtype=tf.resource, name=None)\n",
      "  1834370417408: TensorSpec(shape=(), dtype=tf.resource, name=None)\n",
      "  1834370418640: TensorSpec(shape=(), dtype=tf.resource, name=None)\n",
      "  1834370417936: TensorSpec(shape=(), dtype=tf.resource, name=None)\n"
     ]
    }
   ],
   "source": [
    "import tensorflow as tf\n",
    "\n",
    "# Assuming `model` is your trained TensorFlow model\n",
    "model.save('my_model.h5')\n",
    "\n",
    "# Convert the model to TensorFlow Lite\n",
    "converter = tf.lite.TFLiteConverter.from_keras_model(model)\n",
    "tflite_model = converter.convert()\n",
    "\n",
    "# Save the TensorFlow Lite model\n",
    "with open('model.tflite', 'wb') as f:\n",
    "    f.write(tflite_model)\n"
   ]
  },
  {
   "cell_type": "code",
   "execution_count": 165,
   "metadata": {},
   "outputs": [
    {
     "name": "stdout",
     "output_type": "stream",
     "text": [
      "[{'name': 'serving_default_keras_tensor_86:0', 'index': 0, 'shape': array([ 1, 33]), 'shape_signature': array([-1, 33]), 'dtype': <class 'numpy.float32'>, 'quantization': (0.0, 0), 'quantization_parameters': {'scales': array([], dtype=float32), 'zero_points': array([], dtype=int32), 'quantized_dimension': 0}, 'sparsity_parameters': {}}]\n",
      "[{'name': 'StatefulPartitionedCall_1:0', 'index': 10, 'shape': array([1, 1]), 'shape_signature': array([-1,  1]), 'dtype': <class 'numpy.float32'>, 'quantization': (0.0, 0), 'quantization_parameters': {'scales': array([], dtype=float32), 'zero_points': array([], dtype=int32), 'quantized_dimension': 0}, 'sparsity_parameters': {}}]\n",
      "[[-0.03016578]\n",
      " [-0.48548567]\n",
      " [-0.4285707 ]\n",
      " [-0.55378366]\n",
      " [-0.58793265]\n",
      " [-0.3716557 ]\n",
      " [-0.47979417]\n",
      " [-0.58793265]\n",
      " [-0.4285707 ]\n",
      " [-0.58793265]\n",
      " [-0.48548567]\n",
      " [-0.58793265]\n",
      " [-0.54240066]\n",
      " [-0.58793265]\n",
      " [-0.58793265]\n",
      " [-0.58793265]\n",
      " [-0.58793265]\n",
      " [-0.58793265]\n",
      " [-0.58793265]\n",
      " [-0.58793265]\n",
      " [-0.58793265]\n",
      " [-0.58793265]\n",
      " [-0.58793265]\n",
      " [-0.58793265]\n",
      " [-0.58793265]\n",
      " [-0.54240066]\n",
      " [-0.58793265]\n",
      " [-0.58793265]\n",
      " [-0.58793265]\n",
      " [-0.58793265]\n",
      " [-0.58793265]\n",
      " [-0.58793265]\n",
      " [-0.58793265]]\n",
      "[[-0.03016578 -0.48548567 -0.4285707  -0.55378366 -0.58793265 -0.3716557\n",
      "  -0.47979417 -0.58793265 -0.4285707  -0.58793265 -0.48548567 -0.58793265\n",
      "  -0.54240066 -0.58793265 -0.58793265 -0.58793265 -0.58793265 -0.58793265\n",
      "  -0.58793265 -0.58793265 -0.58793265 -0.58793265 -0.58793265 -0.58793265\n",
      "  -0.58793265 -0.54240066 -0.58793265 -0.58793265 -0.58793265 -0.58793265\n",
      "  -0.58793265 -0.58793265 -0.58793265]]\n",
      "[[1.2535905e-06]]\n"
     ]
    }
   ],
   "source": [
    "import tensorflow as tf\n",
    "import numpy as np\n",
    "\n",
    "# Load the model\n",
    "interpreter = tf.lite.Interpreter(model_path=\"model.tflite\")\n",
    "interpreter.allocate_tensors()\n",
    "\n",
    "# Get input and output tensors\n",
    "input_details = interpreter.get_input_details()\n",
    "output_details = interpreter.get_output_details()\n",
    "print(input_details)\n",
    "print(output_details)\n",
    "# Prepare input data\n",
    "\n",
    "\n",
    "# Run inference\n",
    "put=[     \n",
    "      50.0,\n",
    "      10.0,\n",
    "      15.0,\n",
    "      4.0,\n",
    "      1.0,\n",
    "      20.0,\n",
    "      10.5,\n",
    "      1.0,\n",
    "      15.0,\n",
    "      1.0,\n",
    "      10.0,\n",
    "      1.0,\n",
    "      5.0,\n",
    "      1.0,\n",
    "      1.0,\n",
    "      1.0,\n",
    "      1.0,\n",
    "      1.0,\n",
    "      1.0,\n",
    "      1.0,\n",
    "      1.0,\n",
    "      1.0,\n",
    "      1.0,\n",
    "      1.0,\n",
    "      1.0,\n",
    "      5.0,\n",
    "      1.0,\n",
    "      1.0,\n",
    "      1.0,\n",
    "      1.0,\n",
    "      1.0,\n",
    "      1.0,\n",
    "      1.0 \n",
    "      ]\n",
    "# scaler = StandardScaler()\n",
    "tester_prob1 = pd.DataFrame(put)\n",
    "tester_prob1 = pd.DataFrame(scaler.fit_transform(tester_prob1), columns=tester_prob1.columns)\n",
    "# Normalize the test data using the fitted scaler\n",
    "tester_prob1_normalized = scaler.transform(tester_prob1)\n",
    "\n",
    "# Ensure the data type matches what the model expects\n",
    "tester_prob1_normalized = tester_prob1_normalized.astype(np.float32)\n",
    "print(tester_prob1_normalized)\n",
    "\n",
    "input_data = np.array(tester_prob1_normalized, dtype=np.float32).reshape((1, -1))\n",
    "print(input_data)\n",
    "\n",
    "interpreter.set_tensor(input_details[0]['index'], input_data)\n",
    "interpreter.invoke()\n",
    "output_data = interpreter.get_tensor(output_details[0]['index'])\n",
    "print(output_data)\n"
   ]
  },
  {
   "cell_type": "code",
   "execution_count": null,
   "metadata": {},
   "outputs": [
    {
     "name": "stdout",
     "output_type": "stream",
     "text": [
      "\u001b[1m1/1\u001b[0m \u001b[32m━━━━━━━━━━━━━━━━━━━━\u001b[0m\u001b[37m\u001b[0m \u001b[1m0s\u001b[0m 32ms/step\n",
      "Predictions: [[0.04450294]], prob [[0]], flat [0 0 0 0 0 0 0 0 0 0 0 0 0 0 0 0 0 0 0 0 0 0 0 0 0 0 0 0 0 0 0 0 0 0 0 0 0\n",
      " 0 0 0 0 0 0 0 0 0 0 0 0 0 0 0 0 0 0 0 0 0 0 0 0 0 0 0 0 0 0 0 0 0 0 0 0 0\n",
      " 0 0 0 0 0 0 0 0 0 0 0 0 0 0 0 0 0 0 0 0 0 0 0 0 0 0 0 0 0 0 0 0 0 0 0 0 0\n",
      " 0 0 0 0 0 0 0 0 0 0 0 0 0 0 0 0 0 0 0 0 0 0 0 0 0 0 0 0 0 0 0 0 0 0 0 0 0\n",
      " 0 0 0 0 0 0 0 0 0 0 0 0 0 0 0 0 0 0 0]\n"
     ]
    }
   ],
   "source": [
    "test1_prob0= {\n",
    "  \"age\": [25],\n",
    "  \"num_sexual_partners\": [1],\n",
    "  \"first_sexual_intercourse\": [20],\n",
    "  \"num_pregnancies\": 1,\n",
    "  \"smokes\": [0],\n",
    "  \"smokes_years\": [0],\n",
    "  \"smokes_packs_per_year\":[ 0.0],\n",
    "  \"hormonal_contraceptives\": [0],\n",
    "  \"hormonal_contraceptives_years\": [0],\n",
    "  \"iud\": [0],\n",
    "  \"iud_years\": [0],\n",
    "  \"stds\": [0],\n",
    "  \"stds_number\": [0],\n",
    "  \"stds_condylomatosis\": [0],\n",
    "  \"stds_cervical_condylomatosis\": [0],\n",
    "  \"stds_vaginal_condylomatosis\": [0],\n",
    "  \"stds_vulvo_perineal_condylomatosis\": [0],\n",
    "  \"stds_syphilis\": [0],\n",
    "  \"stds_pelvic_inflammatory_disease\": [0],\n",
    "  \"stds_genital_herpes\": [0],\n",
    "  \"stds_molluscum_contagiosum\": [0],\n",
    "  \"stds_aids\": [0],\n",
    "  \"stds_hiv\": [0],\n",
    "  \"stds_hepatitis_b\": [0],\n",
    "  \"stds_hpv\": [0],\n",
    "  \"stds_number_of_diagnosis\": [0],\n",
    "  \"dx_cancer\": [0],\n",
    "  \"dx_cin\": [0],\n",
    "  \"dx_hpv\": [0],\n",
    "  \"dx\": [0],\n",
    "  \"hinselmann\": [0],\n",
    "  \"schiller\": [0],\n",
    "  \"citology\": [0]\n",
    "}\n",
    "\n",
    "\n",
    "tester_prob0 = pd.DataFrame(test1_prob0)\n",
    "\n",
    "y_pred_proba = model.predict(tester_prob0)  # Probabilities for ROC-AUC\n",
    "y_pred = (y_pred_proba > 0.5).astype(int)\n",
    "\n",
    "print(f\"Predictions: {y_pred_proba}, prob {y_pred}, flat {y_pred_flat}\")"
   ]
  },
  {
   "cell_type": "code",
   "execution_count": 166,
   "metadata": {},
   "outputs": [
    {
     "name": "stdout",
     "output_type": "stream",
     "text": [
      "INFO:tensorflow:Assets written to: C:\\Users\\BoreTech\\AppData\\Local\\Temp\\tmprnxj836i\\assets\n"
     ]
    },
    {
     "name": "stderr",
     "output_type": "stream",
     "text": [
      "c:\\Projects\\Python\\ML\\cervical\\venv\\lib\\site-packages\\keras\\src\\saving\\saving_lib.py:576: UserWarning: Skipping variable loading for optimizer 'rmsprop', because it has 8 variables whereas the saved optimizer has 14 variables. \n",
      "  saveable.load_own_variables(weights_store.get(inner_path))\n",
      "INFO:tensorflow:Assets written to: C:\\Users\\BoreTech\\AppData\\Local\\Temp\\tmprnxj836i\\assets\n"
     ]
    },
    {
     "name": "stdout",
     "output_type": "stream",
     "text": [
      "Saved artifact at 'C:\\Users\\BoreTech\\AppData\\Local\\Temp\\tmprnxj836i'. The following endpoints are available:\n",
      "\n",
      "* Endpoint 'serve'\n",
      "  args_0 (POSITIONAL_ONLY): TensorSpec(shape=(None, 33), dtype=tf.float32, name='input_layer_8')\n",
      "Output Type:\n",
      "  TensorSpec(shape=(None, 1), dtype=tf.float32, name=None)\n",
      "Captures:\n",
      "  1834201956592: TensorSpec(shape=(), dtype=tf.resource, name=None)\n",
      "  1834372791280: TensorSpec(shape=(), dtype=tf.resource, name=None)\n",
      "  1834373517376: TensorSpec(shape=(), dtype=tf.resource, name=None)\n",
      "  1834373518432: TensorSpec(shape=(), dtype=tf.resource, name=None)\n",
      "  1834373571328: TensorSpec(shape=(), dtype=tf.resource, name=None)\n",
      "  1834373571152: TensorSpec(shape=(), dtype=tf.resource, name=None)\n"
     ]
    }
   ],
   "source": [
    "model.save('cervical_cancer_model_standardized.keras')\n",
    "\n",
    "model = tf.keras.models.load_model('cervical_cancer_model_standardized.keras')\n",
    "\n",
    "# Convert the model to TensorFlow Lite format\n",
    "converter = tf.lite.TFLiteConverter.from_keras_model(model)\n",
    "tflite_model = converter.convert()\n",
    "\n",
    "# Save the TensorFlow Lite model to a file\n",
    "with open('cervical_cancer_model_standardized.tflite', 'wb') as f:\n",
    "    f.write(tflite_model)"
   ]
  },
  {
   "cell_type": "markdown",
   "metadata": {},
   "source": [
    "testing\n"
   ]
  },
  {
   "cell_type": "code",
   "execution_count": 167,
   "metadata": {},
   "outputs": [
    {
     "name": "stderr",
     "output_type": "stream",
     "text": [
      "c:\\Projects\\Python\\ML\\cervical\\venv\\lib\\site-packages\\keras\\src\\saving\\saving_lib.py:576: UserWarning: Skipping variable loading for optimizer 'rmsprop', because it has 8 variables whereas the saved optimizer has 14 variables. \n",
      "  saveable.load_own_variables(weights_store.get(inner_path))\n"
     ]
    },
    {
     "name": "stdout",
     "output_type": "stream",
     "text": [
      "INFO:tensorflow:Assets written to: C:\\Users\\BoreTech\\AppData\\Local\\Temp\\tmp1yabn4gn\\assets\n"
     ]
    },
    {
     "name": "stderr",
     "output_type": "stream",
     "text": [
      "INFO:tensorflow:Assets written to: C:\\Users\\BoreTech\\AppData\\Local\\Temp\\tmp1yabn4gn\\assets\n"
     ]
    },
    {
     "name": "stdout",
     "output_type": "stream",
     "text": [
      "Saved artifact at 'C:\\Users\\BoreTech\\AppData\\Local\\Temp\\tmp1yabn4gn'. The following endpoints are available:\n",
      "\n",
      "* Endpoint 'serve'\n",
      "  args_0 (POSITIONAL_ONLY): TensorSpec(shape=(None, 33), dtype=tf.float32, name='input_layer_8')\n",
      "Output Type:\n",
      "  TensorSpec(shape=(None, 1), dtype=tf.float32, name=None)\n",
      "Captures:\n",
      "  1834372651840: TensorSpec(shape=(), dtype=tf.resource, name=None)\n",
      "  1834371576048: TensorSpec(shape=(), dtype=tf.resource, name=None)\n",
      "  1834373518080: TensorSpec(shape=(), dtype=tf.resource, name=None)\n",
      "  1834372353360: TensorSpec(shape=(), dtype=tf.resource, name=None)\n",
      "  1834390703440: TensorSpec(shape=(), dtype=tf.resource, name=None)\n",
      "  1834390703264: TensorSpec(shape=(), dtype=tf.resource, name=None)\n",
      "TensorFlow Lite Predictions: [[0.9896256]]\n"
     ]
    }
   ],
   "source": [
    "import tensorflow as tf\n",
    "import numpy as np\n",
    "\n",
    "# Load the TensorFlow model\n",
    "model = tf.keras.models.load_model('cervical_cancer_model_standardized.keras')\n",
    "\n",
    "# Convert the model to TensorFlow Lite format\n",
    "converter = tf.lite.TFLiteConverter.from_keras_model(model)\n",
    "tflite_model = converter.convert()\n",
    "\n",
    "# Save the TensorFlow Lite model to a file\n",
    "with open('cervical_cancer_model_standardized.tflite', 'wb') as f:\n",
    "    f.write(tflite_model)\n",
    "\n",
    "# Load the TFLite model and allocate tensors\n",
    "interpreter = tf.lite.Interpreter(model_path='cervical_cancer_model_standardized.tflite')\n",
    "interpreter.allocate_tensors()\n",
    "\n",
    "# Get input and output tensors.\n",
    "input_details = interpreter.get_input_details()\n",
    "output_details = interpreter.get_output_details()\n",
    "\n",
    "# Test data\n",
    "test1_prob1= { \"age\": [50],\n",
    "  \"num_sexual_partners\": [10],\n",
    "  \"first_sexual_intercourse\": [15],\n",
    "  \"num_pregnancies\": [4],\n",
    "  \"smokes\": [1],\n",
    "  \"smokes_years\": [20],\n",
    "  \"smokes_packs_per_year\": [10.5],\n",
    "  \"hormonal_contraceptives\": [1],\n",
    "  \"hormonal_contraceptives_years\": [15],\n",
    "  \"iud\": [1],\n",
    "  \"iud_years\": [10],\n",
    "  \"stds\": [1],\n",
    "  \"stds_number\": [5],\n",
    "  \"stds_condylomatosis\": [1],\n",
    "  \"stds_cervical_condylomatosis\": [1],\n",
    "  \"stds_vaginal_condylomatosis\": [1],\n",
    "  \"stds_vulvo_perineal_condylomatosis\": [1],\n",
    "  \"stds_syphilis\": [1],\n",
    "  \"stds_pelvic_inflammatory_disease\": [1],\n",
    "  \"stds_genital_herpes\": [1],\n",
    "  \"stds_molluscum_contagiosum\": [1],\n",
    "  \"stds_aids\": [1],\n",
    "  \"stds_hiv\": [1],\n",
    "  \"stds_hepatitis_b\": [1],\n",
    "  \"stds_hpv\": [1],\n",
    "  \"stds_number_of_diagnosis\": [5],\n",
    "  \"dx_cancer\": [1],\n",
    "  \"dx_cin\": [1],\n",
    "  \"dx_hpv\": [1],\n",
    "  \"dx\": [1],\n",
    "  \"hinselmann\": [1],\n",
    "  \"schiller\": [1],\n",
    "  \"citology\": [1]\n",
    "}\n",
    "\n",
    "import pandas as pd\n",
    "from sklearn.preprocessing import StandardScaler\n",
    "\n",
    "# Load scaler parameters\n",
    "with open('scaler_params.json', 'r') as f:\n",
    "    scaler_params = json.load(f)\n",
    "\n",
    "mean = np.array(scaler_params['mean'])\n",
    "scale = np.array(scaler_params['scale'])\n",
    "\n",
    "tester_prob1 = pd.DataFrame(test1_prob1)\n",
    "\n",
    "# Normalize input data\n",
    "tester_prob1_scaled = (tester_prob1 - mean) / scale\n",
    "input_data = tester_prob1_scaled.astype(np.float32).to_numpy()\n",
    "\n",
    "# Set the tensor to the input data\n",
    "interpreter.set_tensor(input_details[0]['index'], input_data)\n",
    "\n",
    "# Run inference\n",
    "interpreter.invoke()\n",
    "\n",
    "# Get the prediction result\n",
    "tflite_results = interpreter.get_tensor(output_details[0]['index'])\n",
    "\n",
    "# Print the TensorFlow Lite prediction\n",
    "print(f\"TensorFlow Lite Predictions: {tflite_results}\")\n"
   ]
  }
 ],
 "metadata": {
  "kernelspec": {
   "display_name": "venv",
   "language": "python",
   "name": "python3"
  },
  "language_info": {
   "codemirror_mode": {
    "name": "ipython",
    "version": 3
   },
   "file_extension": ".py",
   "mimetype": "text/x-python",
   "name": "python",
   "nbconvert_exporter": "python",
   "pygments_lexer": "ipython3",
   "version": "3.9.5"
  }
 },
 "nbformat": 4,
 "nbformat_minor": 2
}
